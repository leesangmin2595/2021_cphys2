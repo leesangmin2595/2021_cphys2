{
 "cells": [
  {
   "cell_type": "markdown",
   "metadata": {
    "id": "l1hl1ChUKdTs"
   },
   "source": [
    "## CNN for Fashion MNIST"
   ]
  },
  {
   "cell_type": "code",
   "execution_count": 17,
   "metadata": {
    "id": "p4dtSW2EMvhD"
   },
   "outputs": [],
   "source": [
    "import torch\n",
    "from torch import nn\n",
    "from torch.utils.data import DataLoader\n",
    "from torchvision import datasets\n",
    "from torchvision.transforms import ToTensor\n",
    "\n",
    "import numpy as np\n",
    "import matplotlib.pyplot as plt"
   ]
  },
  {
   "cell_type": "code",
   "execution_count": 18,
   "metadata": {
    "id": "SRFE0QX1JCTi"
   },
   "outputs": [],
   "source": [
    "learning_rate = 1e-3\n",
    "batch_size = 100\n",
    "epochs = 15"
   ]
  },
  {
   "cell_type": "markdown",
   "metadata": {
    "id": "Yr9lGN-9KdT0"
   },
   "source": [
    "### 1. Data"
   ]
  },
  {
   "cell_type": "code",
   "execution_count": 19,
   "metadata": {
    "id": "_njheaASMwdH"
   },
   "outputs": [],
   "source": [
    "train_data = datasets.FashionMNIST(\n",
    "    root=\"data\",\n",
    "    train=True,\n",
    "    download=True,\n",
    "    transform=ToTensor()\n",
    ")\n",
    "\n",
    "test_data = datasets.FashionMNIST(\n",
    "    root=\"data\",\n",
    "    train=False,\n",
    "    download=True,\n",
    "    transform=ToTensor()\n",
    ")\n",
    "\n",
    "train_dataloader = DataLoader(train_data, batch_size=batch_size)\n",
    "test_dataloader = DataLoader(test_data, batch_size=batch_size)"
   ]
  },
  {
   "cell_type": "code",
   "execution_count": 20,
   "metadata": {
    "colab": {
     "base_uri": "https://localhost:8080/"
    },
    "executionInfo": {
     "elapsed": 350,
     "status": "ok",
     "timestamp": 1628757295138,
     "user": {
      "displayName": "DongKook Kim",
      "photoUrl": "",
      "userId": "12675267870198906446"
     },
     "user_tz": -540
    },
    "id": "auYf9MA5M3Jq",
    "outputId": "80640644-8ff7-4941-e895-49140488c9be"
   },
   "outputs": [
    {
     "name": "stdout",
     "output_type": "stream",
     "text": [
      "train_data : Dataset FashionMNIST\n",
      "    Number of datapoints: 60000\n",
      "    Root location: data\n",
      "    Split: Train\n",
      "    StandardTransform\n",
      "Transform: ToTensor()\n",
      "test_data : Dataset FashionMNIST\n",
      "    Number of datapoints: 10000\n",
      "    Root location: data\n",
      "    Split: Test\n",
      "    StandardTransform\n",
      "Transform: ToTensor()\n"
     ]
    }
   ],
   "source": [
    "print('train_data :', train_data)\n",
    "print('test_data :', test_data)"
   ]
  },
  {
   "cell_type": "markdown",
   "metadata": {
    "id": "WhRtTJQdKdT7"
   },
   "source": [
    "### 2. Model(output=10)"
   ]
  },
  {
   "cell_type": "code",
   "execution_count": 21,
   "metadata": {
    "id": "26DoVqqBMzzy"
   },
   "outputs": [],
   "source": [
    "class CNN(nn.Module):\n",
    "\n",
    "    def __init__(self):\n",
    "        super(CNN, self).__init__()\n",
    "        \n",
    "        self.layer1 = nn.Sequential(\n",
    "            nn.Conv2d(1, 32, kernel_size=3, stride=1, padding='same'),\n",
    "            nn.ReLU(),\n",
    "            nn.MaxPool2d(kernel_size=2, stride=2))\n",
    "        \n",
    "        self.layer2 = torch.nn.Sequential(\n",
    "            nn.Conv2d(32, 64, kernel_size=3, stride=1, padding='same'),\n",
    "            nn.ReLU(),\n",
    "            nn.MaxPool2d(kernel_size=2, stride=2))\n",
    "        \n",
    "        self.fc = torch.nn.Linear(7 * 7 * 64, 10, bias=True) # output=10\n",
    "        #nn.init.xavier_uniform_(self.fc.weight) # weight를 초기화 하는 방법(넣고 돌려도됨)\n",
    "        \n",
    "    def forward(self, x):\n",
    "        out = self.layer1(x)\n",
    "        out = self.layer2(out)\n",
    "        out = out.view(out.size(0), -1)   # Flatten \n",
    "        out = self.fc(out) # softmax는 CEloss에 포함되어있음\n",
    "        return out\n",
    "\n",
    "model = CNN()"
   ]
  },
  {
   "cell_type": "markdown",
   "metadata": {
    "id": "aavZt0hQKdT_"
   },
   "source": [
    "### 3. Loss and Optimizer(loss function=CE, optimizer=Adam)"
   ]
  },
  {
   "cell_type": "code",
   "execution_count": 22,
   "metadata": {
    "id": "3VEi69HdKdT_"
   },
   "outputs": [],
   "source": [
    "criterion = nn.CrossEntropyLoss()\n",
    "optimizer = torch.optim.Adam(model.parameters(), lr=learning_rate)"
   ]
  },
  {
   "cell_type": "markdown",
   "metadata": {
    "id": "-3Qaw39IKdUA"
   },
   "source": [
    "### 4. Train/Test the model"
   ]
  },
  {
   "cell_type": "code",
   "execution_count": 23,
   "metadata": {
    "id": "nr0sUip2M52o"
   },
   "outputs": [],
   "source": [
    "def train_loop(dataloader, model, criterion, optimizer):\n",
    "    size = len(dataloader.dataset)\n",
    "    num_batches = len(dataloader)\n",
    "    \n",
    "    train_loss, correct = 0, 0\n",
    "    for batch, (X, y) in enumerate(dataloader):\n",
    "        pred = model(X)\n",
    "        loss = criterion(pred, y)\n",
    "        train_loss += loss.item()\n",
    "        correct += (pred.argmax(1) == y).type(torch.float).sum().item()\n",
    "\n",
    "        # Backpropagation\n",
    "        optimizer.zero_grad()\n",
    "        loss.backward()\n",
    "        optimizer.step()\n",
    "\n",
    "    train_loss /= num_batches\n",
    "    correct /= size\n",
    "    print(f\"Train - Avg loss: {train_loss:>8f},  Accuracy: {(100*correct):>0.1f}%\", end = \"  \")\n",
    "\n",
    "    return train_loss, correct\n",
    "\n",
    "\n",
    "def test_loop(dataloader, model, criterion):\n",
    "    size = len(dataloader.dataset)\n",
    "    num_batches = len(dataloader)\n",
    "    test_loss, correct = 0, 0\n",
    "\n",
    "    with torch.no_grad():\n",
    "        for X, y in dataloader:\n",
    "            pred = model(X)\n",
    "            test_loss += criterion(pred, y).item()\n",
    "            correct += (pred.argmax(1) == y).type(torch.float).sum().item()\n",
    "\n",
    "    test_loss /= num_batches\n",
    "    correct /= size\n",
    "    print(f\"Test - Avg loss: {test_loss:>8f}  Accuracy: {(100*correct):>0.1f}%\")\n",
    "\n",
    "    return test_loss, correct"
   ]
  },
  {
   "cell_type": "code",
   "execution_count": 24,
   "metadata": {
    "colab": {
     "base_uri": "https://localhost:8080/"
    },
    "executionInfo": {
     "elapsed": 99932,
     "status": "ok",
     "timestamp": 1628757395063,
     "user": {
      "displayName": "DongKook Kim",
      "photoUrl": "",
      "userId": "12675267870198906446"
     },
     "user_tz": -540
    },
    "id": "kJelZSZIKv6e",
    "outputId": "d4e2c408-719d-4377-916e-8dc28e24c7cd"
   },
   "outputs": [
    {
     "name": "stdout",
     "output_type": "stream",
     "text": [
      "Epoch 1 :  Train - Avg loss: 0.489662,  Accuracy: 82.5%  Test - Avg loss: 0.382998  Accuracy: 86.3%\n",
      "Epoch 2 :  Train - Avg loss: 0.320579,  Accuracy: 88.5%  Test - Avg loss: 0.342233  Accuracy: 87.6%\n",
      "Epoch 3 :  Train - Avg loss: 0.281927,  Accuracy: 89.9%  Test - Avg loss: 0.313358  Accuracy: 88.7%\n",
      "Epoch 4 :  Train - Avg loss: 0.257758,  Accuracy: 90.7%  Test - Avg loss: 0.301246  Accuracy: 89.3%\n",
      "Epoch 5 :  Train - Avg loss: 0.239086,  Accuracy: 91.4%  Test - Avg loss: 0.291943  Accuracy: 89.6%\n",
      "Epoch 6 :  Train - Avg loss: 0.223458,  Accuracy: 92.0%  Test - Avg loss: 0.285088  Accuracy: 90.0%\n",
      "Epoch 7 :  Train - Avg loss: 0.209730,  Accuracy: 92.5%  Test - Avg loss: 0.281977  Accuracy: 90.2%\n",
      "Epoch 8 :  Train - Avg loss: 0.197507,  Accuracy: 92.9%  Test - Avg loss: 0.281412  Accuracy: 90.4%\n",
      "Epoch 9 :  Train - Avg loss: 0.186115,  Accuracy: 93.4%  Test - Avg loss: 0.279516  Accuracy: 90.5%\n",
      "Epoch 10 :  Train - Avg loss: 0.175775,  Accuracy: 93.8%  Test - Avg loss: 0.281052  Accuracy: 90.8%\n",
      "Epoch 11 :  Train - Avg loss: 0.166174,  Accuracy: 94.1%  Test - Avg loss: 0.281602  Accuracy: 90.8%\n",
      "Epoch 12 :  Train - Avg loss: 0.157527,  Accuracy: 94.4%  Test - Avg loss: 0.282202  Accuracy: 90.9%\n",
      "Epoch 13 :  Train - Avg loss: 0.149270,  Accuracy: 94.7%  Test - Avg loss: 0.285200  Accuracy: 90.9%\n",
      "Epoch 14 :  Train - Avg loss: 0.141570,  Accuracy: 95.0%  Test - Avg loss: 0.287679  Accuracy: 90.8%\n",
      "Epoch 15 :  Train - Avg loss: 0.134400,  Accuracy: 95.3%  Test - Avg loss: 0.293814  Accuracy: 90.8%\n",
      "Done\n"
     ]
    }
   ],
   "source": [
    "train_loss = []\n",
    "train_acc = []\n",
    "test_loss = []\n",
    "test_acc = []\n",
    "for t in range(epochs):\n",
    "    print(f\"Epoch {t+1} :\", end= \"  \")\n",
    "    loss, acc = train_loop(train_dataloader, model, criterion, optimizer)\n",
    "    train_loss.append(loss)\n",
    "    train_acc.append(acc)\n",
    "\n",
    "    loss_t, acc_t = test_loop(test_dataloader, model, criterion)\n",
    "    test_loss.append(loss_t)\n",
    "    test_acc.append(acc_t)\n",
    "\n",
    "print(\"Done\")"
   ]
  },
  {
   "cell_type": "markdown",
   "metadata": {},
   "source": [
    "### 4-1. Test Accuracy"
   ]
  },
  {
   "cell_type": "code",
   "execution_count": 25,
   "metadata": {},
   "outputs": [
    {
     "name": "stdout",
     "output_type": "stream",
     "text": [
      "test accuracy: 0.9082\n"
     ]
    }
   ],
   "source": [
    "print(\"test accuracy: {}\".format(test_acc[-1]))"
   ]
  },
  {
   "cell_type": "markdown",
   "metadata": {
    "id": "scFN37RFKdUD"
   },
   "source": [
    "### 5. Result plot"
   ]
  },
  {
   "cell_type": "code",
   "execution_count": 26,
   "metadata": {
    "colab": {
     "base_uri": "https://localhost:8080/",
     "height": 295
    },
    "executionInfo": {
     "elapsed": 15,
     "status": "ok",
     "timestamp": 1628757395064,
     "user": {
      "displayName": "DongKook Kim",
      "photoUrl": "",
      "userId": "12675267870198906446"
     },
     "user_tz": -540
    },
    "id": "x6ptwOD6M-75",
    "outputId": "82c22a86-3ce4-4e3a-853a-83966a0a7413"
   },
   "outputs": [
    {
     "data": {
      "image/png": "[encoded data removed]",
      "text/plain": [
       "<Figure size 432x288 with 1 Axes>"
      ]
     },
     "metadata": {
      "needs_background": "light"
     },
     "output_type": "display_data"
    }
   ],
   "source": [
    "epochs = np.arange(1, epochs+1)\n",
    "plt.plot(epochs, train_loss, 'r', label='Training loss')\n",
    "plt.plot(epochs, test_loss, 'b', label='Test loss')\n",
    "plt.title('Training and Test loss')\n",
    "plt.xlabel('Epochs')\n",
    "plt.ylabel('Loss')\n",
    "plt.legend()\n",
    "\n",
    "plt.show() # 현재 epoch 끝에서 test loss가 증가하려함"
   ]
  },
  {
   "cell_type": "markdown",
   "metadata": {
    "id": "Un4wGc-yKdUE"
   },
   "source": [
    "### Plot the Training/Test Accuracy"
   ]
  },
  {
   "cell_type": "code",
   "execution_count": 27,
   "metadata": {
    "colab": {
     "base_uri": "https://localhost:8080/",
     "height": 295
    },
    "executionInfo": {
     "elapsed": 569,
     "status": "ok",
     "timestamp": 1628757395627,
     "user": {
      "displayName": "DongKook Kim",
      "photoUrl": "",
      "userId": "12675267870198906446"
     },
     "user_tz": -540
    },
    "id": "GgV8NG_UNAjI",
    "outputId": "160e15ab-6c36-42c5-fb92-27d0fa32e363"
   },
   "outputs": [
    {
     "data": {
      "image/png": "[encoded data removed]",
      "text/plain": [
       "<Figure size 432x288 with 1 Axes>"
      ]
     },
     "metadata": {
      "needs_background": "light"
     },
     "output_type": "display_data"
    }
   ],
   "source": [
    "plt.plot(epochs, train_acc, 'r', label='Training acc')\n",
    "plt.plot(epochs, test_acc, 'b', label='Test acc')\n",
    "plt.title('Training and Test Acc')\n",
    "plt.xlabel('Epochs')\n",
    "plt.ylabel('Acc')\n",
    "plt.legend()\n",
    "\n",
    "plt.show()"
   ]
  },
  {
   "cell_type": "markdown",
   "metadata": {},
   "source": [
    "## 2.아래의 글을 읽고 500자 이내로 감상문을 작성하세요.\n",
    "\n",
    "https://webzine.kps.or.kr/?p=5_view&idx=16537"
   ]
  },
  {
   "cell_type": "markdown",
   "metadata": {},
   "source": [
    "베이커 그룹은 툴을 더 발전시키는 방법으로 단백질 구조에서 두 배열의 거리 뿐만 아니라 각도를 고려하였지만, 알파폴드2는 기존의 CNN방식을 과감히 버리고, transformer 방식을 채택하였다.\n",
    "CNN의 단점은 필터의 weight값들은 학습이 끝나면 고정된 값을 사용하기 때문에 input에 변화가 생겨도 weight의 변화가 없다. 이 단점들을 transformer을 사용하면 바로 해결된다. transformer에선 미분 가능한 local relation layer을 도입하여 해결하고, 더 효율적인 학습이 가능하다. 이를 채택한 것이 50여 년 학계의 노하우보다 훨씬 뛰어났다.\n",
    "최근엔 수십년 그 자리를 지켜온 기술들도 한순간에 도태되는 경우가 많다. 그리고, 그 중심엔 AI가 있다. 많은 주요 산업에서 AI가 엄청난 활약을 하고있다. 따라서 AI의 발전 흐름을 읽고 미리 준비하는 자세가 자신의 경쟁력 또는 학문의 발전을 이루는 길이 될 것이라고 생각한다.\n"
   ]
  }
 ],
 "metadata": {
  "accelerator": "GPU",
  "colab": {
   "collapsed_sections": [],
   "name": "pt-08-2-cnn_fmnist.ipynb",
   "provenance": []
  },
  "kernelspec": {
   "display_name": "Python 3 (ipykernel)",
   "language": "python",
   "name": "python3"
  },
  "language_info": {
   "codemirror_mode": {
    "name": "ipython",
    "version": 3
   },
   "file_extension": ".py",
   "mimetype": "text/x-python",
   "name": "python",
   "nbconvert_exporter": "python",
   "pygments_lexer": "ipython3",
   "version": "3.8.12"
  }
 },
 "nbformat": 4,
 "nbformat_minor": 1
}
