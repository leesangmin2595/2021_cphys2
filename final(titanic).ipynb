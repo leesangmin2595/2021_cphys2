{
 "cells": [
  {
   "cell_type": "markdown",
   "metadata": {},
   "source": [
    "## Titanic"
   ]
  },
  {
   "cell_type": "code",
   "execution_count": 1,
   "metadata": {},
   "outputs": [
    {
     "name": "stdout",
     "output_type": "stream",
     "text": [
      "Init Plugin\n",
      "Init Graph Optimizer\n",
      "Init Kernel\n"
     ]
    }
   ],
   "source": [
    "import numpy as np\n",
    "import pandas as pd\n",
    "import matplotlib.pyplot as plt\n",
    "import tensorflow as tf\n",
    "#np.set_printoptions(threshold=np.inf,linewidth=np.inf) # numpy array를 생략하지않고 전체 출력\n",
    "import seaborn as sns"
   ]
  },
  {
   "cell_type": "markdown",
   "metadata": {},
   "source": [
    "### 1. Data"
   ]
  },
  {
   "cell_type": "code",
   "execution_count": 2,
   "metadata": {},
   "outputs": [],
   "source": [
    "train_data=pd.read_csv('/Users/leesangmin/Desktop/a/train.csv')\n",
    "test=pd.read_csv('/Users/leesangmin/Desktop/a/test.csv')"
   ]
  },
  {
   "cell_type": "code",
   "execution_count": 3,
   "metadata": {},
   "outputs": [
    {
     "data": {
      "text/html": [
       "<div>\n",
       "<style scoped>\n",
       "    .dataframe tbody tr th:only-of-type {\n",
       "        vertical-align: middle;\n",
       "    }\n",
       "\n",
       "    .dataframe tbody tr th {\n",
       "        vertical-align: top;\n",
       "    }\n",
       "\n",
       "    .dataframe thead th {\n",
       "        text-align: right;\n",
       "    }\n",
       "</style>\n",
       "<table border=\"1\" class=\"dataframe\">\n",
       "  <thead>\n",
       "    <tr style=\"text-align: right;\">\n",
       "      <th></th>\n",
       "      <th>PassengerId</th>\n",
       "      <th>Survived</th>\n",
       "      <th>Pclass</th>\n",
       "      <th>Name</th>\n",
       "      <th>Sex</th>\n",
       "      <th>Age</th>\n",
       "      <th>SibSp</th>\n",
       "      <th>Parch</th>\n",
       "      <th>Ticket</th>\n",
       "      <th>Fare</th>\n",
       "      <th>Cabin</th>\n",
       "      <th>Embarked</th>\n",
       "    </tr>\n",
       "  </thead>\n",
       "  <tbody>\n",
       "    <tr>\n",
       "      <th>0</th>\n",
       "      <td>1</td>\n",
       "      <td>0</td>\n",
       "      <td>3</td>\n",
       "      <td>Braund, Mr. Owen Harris</td>\n",
       "      <td>male</td>\n",
       "      <td>22.0</td>\n",
       "      <td>1</td>\n",
       "      <td>0</td>\n",
       "      <td>A/5 21171</td>\n",
       "      <td>7.2500</td>\n",
       "      <td>NaN</td>\n",
       "      <td>S</td>\n",
       "    </tr>\n",
       "    <tr>\n",
       "      <th>1</th>\n",
       "      <td>2</td>\n",
       "      <td>1</td>\n",
       "      <td>1</td>\n",
       "      <td>Cumings, Mrs. John Bradley (Florence Briggs Th...</td>\n",
       "      <td>female</td>\n",
       "      <td>38.0</td>\n",
       "      <td>1</td>\n",
       "      <td>0</td>\n",
       "      <td>PC 17599</td>\n",
       "      <td>71.2833</td>\n",
       "      <td>C85</td>\n",
       "      <td>C</td>\n",
       "    </tr>\n",
       "    <tr>\n",
       "      <th>2</th>\n",
       "      <td>3</td>\n",
       "      <td>1</td>\n",
       "      <td>3</td>\n",
       "      <td>Heikkinen, Miss. Laina</td>\n",
       "      <td>female</td>\n",
       "      <td>26.0</td>\n",
       "      <td>0</td>\n",
       "      <td>0</td>\n",
       "      <td>STON/O2. 3101282</td>\n",
       "      <td>7.9250</td>\n",
       "      <td>NaN</td>\n",
       "      <td>S</td>\n",
       "    </tr>\n",
       "    <tr>\n",
       "      <th>3</th>\n",
       "      <td>4</td>\n",
       "      <td>1</td>\n",
       "      <td>1</td>\n",
       "      <td>Futrelle, Mrs. Jacques Heath (Lily May Peel)</td>\n",
       "      <td>female</td>\n",
       "      <td>35.0</td>\n",
       "      <td>1</td>\n",
       "      <td>0</td>\n",
       "      <td>113803</td>\n",
       "      <td>53.1000</td>\n",
       "      <td>C123</td>\n",
       "      <td>S</td>\n",
       "    </tr>\n",
       "    <tr>\n",
       "      <th>4</th>\n",
       "      <td>5</td>\n",
       "      <td>0</td>\n",
       "      <td>3</td>\n",
       "      <td>Allen, Mr. William Henry</td>\n",
       "      <td>male</td>\n",
       "      <td>35.0</td>\n",
       "      <td>0</td>\n",
       "      <td>0</td>\n",
       "      <td>373450</td>\n",
       "      <td>8.0500</td>\n",
       "      <td>NaN</td>\n",
       "      <td>S</td>\n",
       "    </tr>\n",
       "  </tbody>\n",
       "</table>\n",
       "</div>"
      ],
      "text/plain": [
       "   PassengerId  Survived  Pclass  \\\n",
       "0            1         0       3   \n",
       "1            2         1       1   \n",
       "2            3         1       3   \n",
       "3            4         1       1   \n",
       "4            5         0       3   \n",
       "\n",
       "                                                Name     Sex   Age  SibSp  \\\n",
       "0                            Braund, Mr. Owen Harris    male  22.0      1   \n",
       "1  Cumings, Mrs. John Bradley (Florence Briggs Th...  female  38.0      1   \n",
       "2                             Heikkinen, Miss. Laina  female  26.0      0   \n",
       "3       Futrelle, Mrs. Jacques Heath (Lily May Peel)  female  35.0      1   \n",
       "4                           Allen, Mr. William Henry    male  35.0      0   \n",
       "\n",
       "   Parch            Ticket     Fare Cabin Embarked  \n",
       "0      0         A/5 21171   7.2500   NaN        S  \n",
       "1      0          PC 17599  71.2833   C85        C  \n",
       "2      0  STON/O2. 3101282   7.9250   NaN        S  \n",
       "3      0            113803  53.1000  C123        S  \n",
       "4      0            373450   8.0500   NaN        S  "
      ]
     },
     "execution_count": 3,
     "metadata": {},
     "output_type": "execute_result"
    }
   ],
   "source": [
    "train_data.head()"
   ]
  },
  {
   "cell_type": "code",
   "execution_count": 4,
   "metadata": {},
   "outputs": [
    {
     "data": {
      "text/html": [
       "<div>\n",
       "<style scoped>\n",
       "    .dataframe tbody tr th:only-of-type {\n",
       "        vertical-align: middle;\n",
       "    }\n",
       "\n",
       "    .dataframe tbody tr th {\n",
       "        vertical-align: top;\n",
       "    }\n",
       "\n",
       "    .dataframe thead th {\n",
       "        text-align: right;\n",
       "    }\n",
       "</style>\n",
       "<table border=\"1\" class=\"dataframe\">\n",
       "  <thead>\n",
       "    <tr style=\"text-align: right;\">\n",
       "      <th></th>\n",
       "      <th>PassengerId</th>\n",
       "      <th>Survived</th>\n",
       "      <th>Pclass</th>\n",
       "      <th>Age</th>\n",
       "      <th>SibSp</th>\n",
       "      <th>Parch</th>\n",
       "      <th>Fare</th>\n",
       "    </tr>\n",
       "  </thead>\n",
       "  <tbody>\n",
       "    <tr>\n",
       "      <th>count</th>\n",
       "      <td>891.000000</td>\n",
       "      <td>891.000000</td>\n",
       "      <td>891.000000</td>\n",
       "      <td>714.000000</td>\n",
       "      <td>891.000000</td>\n",
       "      <td>891.000000</td>\n",
       "      <td>891.000000</td>\n",
       "    </tr>\n",
       "    <tr>\n",
       "      <th>mean</th>\n",
       "      <td>446.000000</td>\n",
       "      <td>0.383838</td>\n",
       "      <td>2.308642</td>\n",
       "      <td>29.699118</td>\n",
       "      <td>0.523008</td>\n",
       "      <td>0.381594</td>\n",
       "      <td>32.204208</td>\n",
       "    </tr>\n",
       "    <tr>\n",
       "      <th>std</th>\n",
       "      <td>257.353842</td>\n",
       "      <td>0.486592</td>\n",
       "      <td>0.836071</td>\n",
       "      <td>14.526497</td>\n",
       "      <td>1.102743</td>\n",
       "      <td>0.806057</td>\n",
       "      <td>49.693429</td>\n",
       "    </tr>\n",
       "    <tr>\n",
       "      <th>min</th>\n",
       "      <td>1.000000</td>\n",
       "      <td>0.000000</td>\n",
       "      <td>1.000000</td>\n",
       "      <td>0.420000</td>\n",
       "      <td>0.000000</td>\n",
       "      <td>0.000000</td>\n",
       "      <td>0.000000</td>\n",
       "    </tr>\n",
       "    <tr>\n",
       "      <th>25%</th>\n",
       "      <td>223.500000</td>\n",
       "      <td>0.000000</td>\n",
       "      <td>2.000000</td>\n",
       "      <td>20.125000</td>\n",
       "      <td>0.000000</td>\n",
       "      <td>0.000000</td>\n",
       "      <td>7.910400</td>\n",
       "    </tr>\n",
       "    <tr>\n",
       "      <th>50%</th>\n",
       "      <td>446.000000</td>\n",
       "      <td>0.000000</td>\n",
       "      <td>3.000000</td>\n",
       "      <td>28.000000</td>\n",
       "      <td>0.000000</td>\n",
       "      <td>0.000000</td>\n",
       "      <td>14.454200</td>\n",
       "    </tr>\n",
       "    <tr>\n",
       "      <th>75%</th>\n",
       "      <td>668.500000</td>\n",
       "      <td>1.000000</td>\n",
       "      <td>3.000000</td>\n",
       "      <td>38.000000</td>\n",
       "      <td>1.000000</td>\n",
       "      <td>0.000000</td>\n",
       "      <td>31.000000</td>\n",
       "    </tr>\n",
       "    <tr>\n",
       "      <th>max</th>\n",
       "      <td>891.000000</td>\n",
       "      <td>1.000000</td>\n",
       "      <td>3.000000</td>\n",
       "      <td>80.000000</td>\n",
       "      <td>8.000000</td>\n",
       "      <td>6.000000</td>\n",
       "      <td>512.329200</td>\n",
       "    </tr>\n",
       "  </tbody>\n",
       "</table>\n",
       "</div>"
      ],
      "text/plain": [
       "       PassengerId    Survived      Pclass         Age       SibSp  \\\n",
       "count   891.000000  891.000000  891.000000  714.000000  891.000000   \n",
       "mean    446.000000    0.383838    2.308642   29.699118    0.523008   \n",
       "std     257.353842    0.486592    0.836071   14.526497    1.102743   \n",
       "min       1.000000    0.000000    1.000000    0.420000    0.000000   \n",
       "25%     223.500000    0.000000    2.000000   20.125000    0.000000   \n",
       "50%     446.000000    0.000000    3.000000   28.000000    0.000000   \n",
       "75%     668.500000    1.000000    3.000000   38.000000    1.000000   \n",
       "max     891.000000    1.000000    3.000000   80.000000    8.000000   \n",
       "\n",
       "            Parch        Fare  \n",
       "count  891.000000  891.000000  \n",
       "mean     0.381594   32.204208  \n",
       "std      0.806057   49.693429  \n",
       "min      0.000000    0.000000  \n",
       "25%      0.000000    7.910400  \n",
       "50%      0.000000   14.454200  \n",
       "75%      0.000000   31.000000  \n",
       "max      6.000000  512.329200  "
      ]
     },
     "execution_count": 4,
     "metadata": {},
     "output_type": "execute_result"
    }
   ],
   "source": [
    "train_data.describe()"
   ]
  },
  {
   "cell_type": "code",
   "execution_count": 5,
   "metadata": {},
   "outputs": [
    {
     "name": "stdout",
     "output_type": "stream",
     "text": [
      "<class 'pandas.core.frame.DataFrame'>\n",
      "RangeIndex: 891 entries, 0 to 890\n",
      "Data columns (total 12 columns):\n",
      " #   Column       Non-Null Count  Dtype  \n",
      "---  ------       --------------  -----  \n",
      " 0   PassengerId  891 non-null    int64  \n",
      " 1   Survived     891 non-null    int64  \n",
      " 2   Pclass       891 non-null    int64  \n",
      " 3   Name         891 non-null    object \n",
      " 4   Sex          891 non-null    object \n",
      " 5   Age          714 non-null    float64\n",
      " 6   SibSp        891 non-null    int64  \n",
      " 7   Parch        891 non-null    int64  \n",
      " 8   Ticket       891 non-null    object \n",
      " 9   Fare         891 non-null    float64\n",
      " 10  Cabin        204 non-null    object \n",
      " 11  Embarked     889 non-null    object \n",
      "dtypes: float64(2), int64(5), object(5)\n",
      "memory usage: 83.7+ KB\n"
     ]
    }
   ],
   "source": [
    "train_data.info() # 데이터의 NAN 개수를 확인 가능 "
   ]
  },
  {
   "cell_type": "markdown",
   "metadata": {},
   "source": [
    "### 1-1. 데이터 전처리"
   ]
  },
  {
   "cell_type": "code",
   "execution_count": 6,
   "metadata": {},
   "outputs": [
    {
     "name": "stdout",
     "output_type": "stream",
     "text": [
      "train data의 Age의 nan값의 개수 : 177\n"
     ]
    }
   ],
   "source": [
    "print('train data의 Age의 nan값의 개수 : {}'.format(train_data.Age.isna().sum())) # train_data.nan 값의 개수를 확인\n"
   ]
  },
  {
   "cell_type": "code",
   "execution_count": 7,
   "metadata": {},
   "outputs": [
    {
     "data": {
      "text/plain": [
       "<AxesSubplot:xlabel='Pclass', ylabel='Age'>"
      ]
     },
     "execution_count": 7,
     "metadata": {},
     "output_type": "execute_result"
    },
    {
     "data": {
      "image/png": "[encoded data removed]",
      "text/plain": [
       "<Figure size 432x288 with 1 Axes>"
      ]
     },
     "metadata": {
      "needs_background": "light"
     },
     "output_type": "display_data"
    }
   ],
   "source": [
    "sns.boxplot(x='Pclass',y='Age',data=train_data) # Pclass에 따른 나이를 그래프로 확인, 나이의 nan값을 채워주기 위함"
   ]
  },
  {
   "cell_type": "markdown",
   "metadata": {},
   "source": [
    "#### 1-1-1. Age를 처리하는 과정"
   ]
  },
  {
   "cell_type": "code",
   "execution_count": 8,
   "metadata": {},
   "outputs": [],
   "source": [
    "### Age가 nan 값인 데이터를 채워주는 과정. 위의 Pclass와 Age와의 관계 그래프를 통해 집어넣어줌\n",
    "def nanAge(data): \n",
    "    \n",
    "    if np.isnan(data.Age):\n",
    "\n",
    "        if data.Pclass==1:\n",
    "            return 36\n",
    "        \n",
    "        elif data.Pclass==2:\n",
    "            return 29\n",
    "        else:\n",
    "            return 25\n",
    "\n",
    "    else:\n",
    "        return data.Age\n",
    "        "
   ]
  },
  {
   "cell_type": "code",
   "execution_count": 9,
   "metadata": {},
   "outputs": [
    {
     "name": "stdout",
     "output_type": "stream",
     "text": [
      "train data의 Age의 nan값의 개수 : 0\n"
     ]
    }
   ],
   "source": [
    "train_data['Age']=train_data[['Age','Pclass']].apply(nanAge,axis=1) # Age의 nan값을 넣어줌\n",
    "\n",
    "print('train data의 Age의 nan값의 개수 : {}'.format(train_data.Age.isna().sum())) # train_data.Age의 nan 값의 개수를 확인"
   ]
  },
  {
   "cell_type": "code",
   "execution_count": 10,
   "metadata": {},
   "outputs": [
    {
     "name": "stdout",
     "output_type": "stream",
     "text": [
      "<class 'pandas.core.frame.DataFrame'>\n",
      "RangeIndex: 891 entries, 0 to 890\n",
      "Data columns (total 12 columns):\n",
      " #   Column       Non-Null Count  Dtype  \n",
      "---  ------       --------------  -----  \n",
      " 0   PassengerId  891 non-null    int64  \n",
      " 1   Survived     891 non-null    int64  \n",
      " 2   Pclass       891 non-null    int64  \n",
      " 3   Name         891 non-null    object \n",
      " 4   Sex          891 non-null    object \n",
      " 5   Age          891 non-null    float64\n",
      " 6   SibSp        891 non-null    int64  \n",
      " 7   Parch        891 non-null    int64  \n",
      " 8   Ticket       891 non-null    object \n",
      " 9   Fare         891 non-null    float64\n",
      " 10  Cabin        204 non-null    object \n",
      " 11  Embarked     889 non-null    object \n",
      "dtypes: float64(2), int64(5), object(5)\n",
      "memory usage: 83.7+ KB\n"
     ]
    }
   ],
   "source": [
    "train_data.info() # train_data의 Age에 nan값이 없음을 확인"
   ]
  },
  {
   "cell_type": "markdown",
   "metadata": {},
   "source": [
    "#### 1-1-2. train data Embarked를 처리  "
   ]
  },
  {
   "cell_type": "code",
   "execution_count": 11,
   "metadata": {},
   "outputs": [
    {
     "data": {
      "text/plain": [
       "80.0"
      ]
     },
     "execution_count": 11,
     "metadata": {},
     "output_type": "execute_result"
    }
   ],
   "source": [
    "## train_data의 Embarked에도 두개의 nan값이 있음.데이터가 2개뿐이니 Embarked의 첫번째 값과 같다고 놓았음(S와 같아짐)\n",
    "train_data['Embarked'].fillna(train_data['Embarked'].mode()[0], inplace = True) \n",
    "\n",
    "\n",
    "max(train_data['Age']) "
   ]
  },
  {
   "cell_type": "code",
   "execution_count": 12,
   "metadata": {},
   "outputs": [
    {
     "data": {
      "text/plain": [
       "(7.854, 10.5]        184\n",
       "(21.679, 39.688]     180\n",
       "(-0.001, 7.854]      179\n",
       "(39.688, 512.329]    176\n",
       "(10.5, 21.679]       172\n",
       "Name: Fare, dtype: int64"
      ]
     },
     "execution_count": 12,
     "metadata": {},
     "output_type": "execute_result"
    }
   ],
   "source": [
    "# Fare을 5구간으로 나누기 위해 구간을 확\n",
    "pd.qcut(train_data['Fare'],5).value_counts() "
   ]
  },
  {
   "cell_type": "markdown",
   "metadata": {},
   "source": [
    "#### 1-1-3. 사용할 변수들을 추출"
   ]
  },
  {
   "cell_type": "code",
   "execution_count": 13,
   "metadata": {},
   "outputs": [],
   "source": [
    "### pandas의 각 열을 제거해서 data로 활용하여도 되지만, numpy array형태로 바꿔주었음. Survived or dead를 분석하기위해 Pclass, Sex, Age, Embarked, Fare, SibSp, Parch를 사용\n",
    "def predata(data):\n",
    "    sex=[]\n",
    "    embark=[]\n",
    "    age=[]\n",
    "    family=[]\n",
    "    fare=[]\n",
    "    for i in range(len(data)):\n",
    "\n",
    "        if data.Sex[i]=='male': # Sex는 문자열 데이터이므로, 정수형 숫자로 변경을해줌\n",
    "            a=1\n",
    "        else:\n",
    "            a=0\n",
    "\n",
    "        if data.Age[i]<=16: # 나이를 5등분을 함. train_data의 Age의 데이터의 최대값이 80이므로, 이를 5등분함\n",
    "            b=0\n",
    "        \n",
    "        elif data.Age[i]<=32: # 나이의 데이터는 0~80까지 넓은 분포를 가지기 때문에 구간을 나누어서 해야만 했음\n",
    "            b=1\n",
    "        \n",
    "        elif data.Age[i]<=48:\n",
    "            b=2\n",
    "        elif data.Age[i]<=64:\n",
    "            b=3\n",
    "        else:\n",
    "            b=4\n",
    "\n",
    "            \n",
    "        if data.Embarked[i]==\"C\": # Embarked는 총 3개의 문자열로 되어있음. 이를 정수형 숫자로 변경\n",
    "            c=0\n",
    "        elif data.Embarked[i]==\"Q\":\n",
    "            c=1\n",
    "        else:\n",
    "            c=2\n",
    "\n",
    "\n",
    "        if data.SibSp[i]+data.Parch[i]+1 ==1: # SibSp는 동반한 형제/자매/배우자를 의미. Parch는 동반한 부모/자식 수 이므로 둘을 합쳐 가족으로함. 혼자 온 사람과 안온사람의 구분을 지음\n",
    "            d=0\n",
    "        else:\n",
    "            d=1\n",
    "\n",
    "        if data.Fare[i]<=8: # Fare은 요금으로,5구간으로 나눠주었음\n",
    "            e=0\n",
    "        elif data.Fare[i]<=11:\n",
    "            e=1\n",
    "        elif data.Fare[i]<=21.2:\n",
    "            e=2\n",
    "        elif data.Fare[i]<=40:\n",
    "            e=3\n",
    "        else:\n",
    "            e=4\n",
    "\n",
    "        ## 빈 list에 값들을  채워넣음\n",
    "        sex.append(a)\n",
    "        age.append(b)\n",
    "        embark.append(c)\n",
    "        family.append(d)\n",
    "        fare.append(e)\n",
    "\n",
    "    ## 사용할 변수들을 추출하여 한 열의 array로 변경해주는 과정 \n",
    "    family=np.array(family).reshape(-1,1)\n",
    "    sex=np.array(sex).reshape(-1,1)\n",
    "    fare=np.array(fare).reshape(-1,1)\n",
    "    pclass=np.array(data.Pclass).reshape(-1,1) # Pclass는 변경하지않아도 정수형데이터로 총 3개 존재하기 때문에 if문을 사용하지 않음\n",
    "    age=np.array(age).reshape(-1,1)\n",
    "    embark=np.array(embark).reshape(-1,1)\n",
    "\n",
    "    ## 사용할 변수들을 모두 하나의 열로 추출하였으니 이를 하나의 array로 합치는 과정\n",
    "    X=np.concatenate((age,sex,family,pclass,embark,fare),axis=1) \n",
    "    return X"
   ]
  },
  {
   "cell_type": "code",
   "execution_count": 14,
   "metadata": {},
   "outputs": [
    {
     "name": "stdout",
     "output_type": "stream",
     "text": [
      "[[1 1 1 3 2 0]\n",
      " [2 0 1 1 0 4]\n",
      " [1 0 0 3 2 0]\n",
      " ...\n",
      " [1 0 1 3 2 3]\n",
      " [1 1 0 1 0 3]\n",
      " [1 1 0 3 1 0]]\n"
     ]
    }
   ],
   "source": [
    "## X는 위의 predata 함수로 추출한 사용할 변수들을 array로 추출한것, y는 target으로 Survived or Dead를 의미 \n",
    "X=predata(train_data)\n",
    "y=np.array(train_data.Survived).reshape(-1,1)\n",
    "\n",
    "print(X) # 각 열이 x_n으로 neural network를 만들기 위함."
   ]
  },
  {
   "cell_type": "markdown",
   "metadata": {},
   "source": [
    "### 2. Model(input=6, output=1,) Binary Classification"
   ]
  },
  {
   "cell_type": "code",
   "execution_count": 15,
   "metadata": {},
   "outputs": [
    {
     "name": "stdout",
     "output_type": "stream",
     "text": [
      "Metal device set to: Apple M1\n",
      "\n",
      "systemMemory: 8.00 GB\n",
      "maxCacheSize: 2.67 GB\n",
      "\n"
     ]
    },
    {
     "name": "stderr",
     "output_type": "stream",
     "text": [
      "2021-12-21 15:07:44.540033: I tensorflow/core/common_runtime/pluggable_device/pluggable_device_factory.cc:305] Could not identify NUMA node of platform GPU ID 0, defaulting to 0. Your kernel may not have been built with NUMA support.\n",
      "2021-12-21 15:07:44.540597: I tensorflow/core/common_runtime/pluggable_device/pluggable_device_factory.cc:271] Created TensorFlow device (/job:localhost/replica:0/task:0/device:GPU:0 with 0 MB memory) -> physical PluggableDevice (device: 0, name: METAL, pci bus id: <undefined>)\n"
     ]
    },
    {
     "name": "stdout",
     "output_type": "stream",
     "text": [
      "Model: \"sequential\"\n",
      "_________________________________________________________________\n",
      "Layer (type)                 Output Shape              Param #   \n",
      "=================================================================\n",
      "dense (Dense)                (None, 32)                224       \n",
      "_________________________________________________________________\n",
      "dense_1 (Dense)              (None, 64)                2112      \n",
      "_________________________________________________________________\n",
      "batch_normalization (BatchNo (None, 64)                256       \n",
      "_________________________________________________________________\n",
      "dense_2 (Dense)              (None, 128)               8320      \n",
      "_________________________________________________________________\n",
      "dense_3 (Dense)              (None, 256)               33024     \n",
      "_________________________________________________________________\n",
      "batch_normalization_1 (Batch (None, 256)               1024      \n",
      "_________________________________________________________________\n",
      "dropout (Dropout)            (None, 256)               0         \n",
      "_________________________________________________________________\n",
      "dense_4 (Dense)              (None, 512)               131584    \n",
      "_________________________________________________________________\n",
      "dense_5 (Dense)              (None, 512)               262656    \n",
      "_________________________________________________________________\n",
      "batch_normalization_2 (Batch (None, 512)               2048      \n",
      "_________________________________________________________________\n",
      "dropout_1 (Dropout)          (None, 512)               0         \n",
      "_________________________________________________________________\n",
      "dense_6 (Dense)              (None, 256)               131328    \n",
      "_________________________________________________________________\n",
      "dense_7 (Dense)              (None, 128)               32896     \n",
      "_________________________________________________________________\n",
      "batch_normalization_3 (Batch (None, 128)               512       \n",
      "_________________________________________________________________\n",
      "dropout_2 (Dropout)          (None, 128)               0         \n",
      "_________________________________________________________________\n",
      "dense_8 (Dense)              (None, 64)                8256      \n",
      "_________________________________________________________________\n",
      "dense_9 (Dense)              (None, 32)                2080      \n",
      "_________________________________________________________________\n",
      "batch_normalization_4 (Batch (None, 32)                128       \n",
      "_________________________________________________________________\n",
      "dropout_3 (Dropout)          (None, 32)                0         \n",
      "_________________________________________________________________\n",
      "dense_10 (Dense)             (None, 16)                528       \n",
      "_________________________________________________________________\n",
      "dense_11 (Dense)             (None, 8)                 136       \n",
      "_________________________________________________________________\n",
      "batch_normalization_5 (Batch (None, 8)                 32        \n",
      "_________________________________________________________________\n",
      "dropout_4 (Dropout)          (None, 8)                 0         \n",
      "_________________________________________________________________\n",
      "dense_12 (Dense)             (None, 1)                 9         \n",
      "=================================================================\n",
      "Total params: 617,153\n",
      "Trainable params: 615,153\n",
      "Non-trainable params: 2,000\n",
      "_________________________________________________________________\n"
     ]
    }
   ],
   "source": [
    "epoch=150\n",
    "model = tf.keras.models.Sequential()\n",
    "\n",
    "model.add(tf.keras.layers.Dense(units = 32, input_shape = (6,), activation = 'relu'))\n",
    "model.add(tf.keras.layers.Dense(units = 64, activation = 'relu', kernel_initializer = 'he_normal')) # kernal_initializer은 weight를 초기화하는방법. 그중 he_normal을 택함\n",
    "\n",
    "model.add(tf.keras.layers.BatchNormalization()) # 학습 과정을 안정화 시키기 위하여 BatchNormalization을 진행\n",
    "\n",
    "model.add(tf.keras.layers.Dense(units = 128, activation = 'relu',kernel_initializer = 'he_normal'))\n",
    "model.add(tf.keras.layers.Dense(units = 256, activation = 'relu',kernel_initializer = 'he_normal'))\n",
    "model.add(tf.keras.layers.BatchNormalization())\n",
    "model.add(tf.keras.layers.Dropout(0.2))\n",
    "\n",
    "model.add(tf.keras.layers.Dense(units = 512, activation = 'relu',kernel_initializer = 'he_normal'))\n",
    "model.add(tf.keras.layers.Dense(units = 512, activation = 'relu',kernel_initializer = 'he_normal'))\n",
    "model.add(tf.keras.layers.BatchNormalization())\n",
    "model.add(tf.keras.layers.Dropout(0.2))\n",
    "\n",
    "model.add(tf.keras.layers.Dense(units = 256, activation = 'relu',kernel_initializer = 'he_normal'))\n",
    "model.add(tf.keras.layers.Dense(units = 128, activation = 'relu',kernel_initializer = 'he_normal'))\n",
    "model.add(tf.keras.layers.BatchNormalization())\n",
    "model.add(tf.keras.layers.Dropout(0.2))\n",
    "\n",
    "model.add(tf.keras.layers.Dense(units = 64, activation = 'relu',kernel_initializer = 'he_normal'))\n",
    "model.add(tf.keras.layers.Dense(units = 32, activation = 'relu'))\n",
    "model.add(tf.keras.layers.BatchNormalization())\n",
    "model.add(tf.keras.layers.Dropout(0.2)) # overfitting이 많이 일어나므로, Dropout을 여러층을 이용하였음\n",
    "\n",
    "model.add(tf.keras.layers.Dense(units = 16, activation = 'relu',kernel_regularizer=tf.keras.regularizers.L2(0.01))) # L2 regulation을 사용함\n",
    "model.add(tf.keras.layers.Dense(units = 8, activation = 'relu',kernel_initializer = 'he_normal'))\n",
    "model.add(tf.keras.layers.BatchNormalization())\n",
    "model.add(tf.keras.layers.Dropout(0.4))\n",
    "\n",
    "model.add(tf.keras.layers.Dense(units =1 , activation = 'sigmoid')) # 0과 1을 분류하는 문제와 같으므로(Survived or Dead) sigmoid를 이용하여 분류함\n",
    "\n",
    "model.summary()"
   ]
  },
  {
   "cell_type": "markdown",
   "metadata": {},
   "source": [
    "### 3. Loss and Optimizer (loss= binary CE , optimizer= SGD)"
   ]
  },
  {
   "cell_type": "code",
   "execution_count": 16,
   "metadata": {},
   "outputs": [],
   "source": [
    "### 0-1을 분류하는것이므로 binary_CE를 loss function으로 이용, optimizer은 Adam,SGD를 learning_rate를 바꾸어가며 설정 할 수도 있음\n",
    "model.compile(loss='binary_crossentropy',optimizer='SGD',metrics=['accuracy']) "
   ]
  },
  {
   "cell_type": "markdown",
   "metadata": {},
   "source": [
    "### 4. Train (validation=0.2)"
   ]
  },
  {
   "cell_type": "code",
   "execution_count": 17,
   "metadata": {},
   "outputs": [
    {
     "name": "stdout",
     "output_type": "stream",
     "text": [
      "Epoch 1/150\n"
     ]
    },
    {
     "name": "stderr",
     "output_type": "stream",
     "text": [
      "2021-12-21 15:07:45.032150: I tensorflow/compiler/mlir/mlir_graph_optimization_pass.cc:176] None of the MLIR Optimization Passes are enabled (registered 2)\n",
      "2021-12-21 15:07:45.035435: W tensorflow/core/platform/profile_utils/cpu_utils.cc:128] Failed to get CPU frequency: 0 Hz\n",
      "2021-12-21 15:07:45.667799: I tensorflow/core/grappler/optimizers/custom_graph_optimizer_registry.cc:112] Plugin optimizer for device_type GPU is enabled.\n"
     ]
    },
    {
     "name": "stdout",
     "output_type": "stream",
     "text": [
      "23/23 [==============================] - ETA: 0s - loss: 1.1262 - accuracy: 0.5393"
     ]
    },
    {
     "name": "stderr",
     "output_type": "stream",
     "text": [
      "2021-12-21 15:07:47.822491: I tensorflow/core/grappler/optimizers/custom_graph_optimizer_registry.cc:112] Plugin optimizer for device_type GPU is enabled.\n"
     ]
    },
    {
     "name": "stdout",
     "output_type": "stream",
     "text": [
      "23/23 [==============================] - 3s 76ms/step - loss: 1.1262 - accuracy: 0.5393 - val_loss: 1.4046 - val_accuracy: 0.3464\n",
      "Epoch 2/150\n",
      "23/23 [==============================] - 1s 55ms/step - loss: 0.9856 - accuracy: 0.6011 - val_loss: 1.0071 - val_accuracy: 0.5475\n",
      "Epoch 3/150\n",
      "23/23 [==============================] - 1s 51ms/step - loss: 0.9469 - accuracy: 0.6320 - val_loss: 0.9966 - val_accuracy: 0.4581\n",
      "Epoch 4/150\n",
      "23/23 [==============================] - 1s 55ms/step - loss: 0.9131 - accuracy: 0.6067 - val_loss: 0.8229 - val_accuracy: 0.6648\n",
      "Epoch 5/150\n",
      "23/23 [==============================] - 2s 67ms/step - loss: 0.8643 - accuracy: 0.6447 - val_loss: 0.8361 - val_accuracy: 0.6983\n",
      "Epoch 6/150\n",
      "23/23 [==============================] - 1s 58ms/step - loss: 0.8408 - accuracy: 0.6699 - val_loss: 0.7961 - val_accuracy: 0.7095\n",
      "Epoch 7/150\n",
      "23/23 [==============================] - 2s 67ms/step - loss: 0.8653 - accuracy: 0.6756 - val_loss: 0.8293 - val_accuracy: 0.6648\n",
      "Epoch 8/150\n",
      "23/23 [==============================] - 1s 54ms/step - loss: 0.7826 - accuracy: 0.7149 - val_loss: 0.8194 - val_accuracy: 0.6704\n",
      "Epoch 9/150\n",
      "23/23 [==============================] - 1s 55ms/step - loss: 0.8022 - accuracy: 0.6854 - val_loss: 0.7593 - val_accuracy: 0.6983\n",
      "Epoch 10/150\n",
      "23/23 [==============================] - 1s 63ms/step - loss: 0.8114 - accuracy: 0.6924 - val_loss: 0.8206 - val_accuracy: 0.6648\n",
      "Epoch 11/150\n",
      "23/23 [==============================] - 1s 54ms/step - loss: 0.7848 - accuracy: 0.6952 - val_loss: 0.7383 - val_accuracy: 0.7374\n",
      "Epoch 12/150\n",
      "23/23 [==============================] - 1s 54ms/step - loss: 0.7687 - accuracy: 0.7051 - val_loss: 0.7280 - val_accuracy: 0.7263\n",
      "Epoch 13/150\n",
      "23/23 [==============================] - 1s 59ms/step - loss: 0.7871 - accuracy: 0.7191 - val_loss: 0.7105 - val_accuracy: 0.7598\n",
      "Epoch 14/150\n",
      "23/23 [==============================] - 1s 57ms/step - loss: 0.7357 - accuracy: 0.7289 - val_loss: 0.7051 - val_accuracy: 0.7263\n",
      "Epoch 15/150\n",
      "23/23 [==============================] - 1s 57ms/step - loss: 0.7685 - accuracy: 0.7121 - val_loss: 0.6535 - val_accuracy: 0.7765\n",
      "Epoch 16/150\n",
      "23/23 [==============================] - 1s 62ms/step - loss: 0.7669 - accuracy: 0.7275 - val_loss: 0.6028 - val_accuracy: 0.8156\n",
      "Epoch 17/150\n",
      "23/23 [==============================] - 2s 66ms/step - loss: 0.7530 - accuracy: 0.7374 - val_loss: 0.6082 - val_accuracy: 0.8101\n",
      "Epoch 18/150\n",
      "23/23 [==============================] - 2s 96ms/step - loss: 0.7366 - accuracy: 0.7388 - val_loss: 0.6187 - val_accuracy: 0.8045\n",
      "Epoch 19/150\n",
      "23/23 [==============================] - 2s 88ms/step - loss: 0.7147 - accuracy: 0.7458 - val_loss: 0.6418 - val_accuracy: 0.8045\n",
      "Epoch 20/150\n",
      "23/23 [==============================] - 1s 57ms/step - loss: 0.7228 - accuracy: 0.7444 - val_loss: 0.6099 - val_accuracy: 0.8212\n",
      "Epoch 21/150\n",
      "23/23 [==============================] - 1s 58ms/step - loss: 0.7032 - accuracy: 0.7528 - val_loss: 0.6093 - val_accuracy: 0.8101\n",
      "Epoch 22/150\n",
      "23/23 [==============================] - 2s 73ms/step - loss: 0.7272 - accuracy: 0.7556 - val_loss: 0.6030 - val_accuracy: 0.8156\n",
      "Epoch 23/150\n",
      "23/23 [==============================] - 1s 62ms/step - loss: 0.6929 - accuracy: 0.7612 - val_loss: 0.5914 - val_accuracy: 0.8380\n",
      "Epoch 24/150\n",
      "23/23 [==============================] - 1s 55ms/step - loss: 0.6845 - accuracy: 0.7767 - val_loss: 0.5794 - val_accuracy: 0.8324\n",
      "Epoch 25/150\n",
      "23/23 [==============================] - 1s 54ms/step - loss: 0.7079 - accuracy: 0.7626 - val_loss: 0.5774 - val_accuracy: 0.8324\n",
      "Epoch 26/150\n",
      "23/23 [==============================] - 1s 54ms/step - loss: 0.6782 - accuracy: 0.7612 - val_loss: 0.5759 - val_accuracy: 0.8324\n",
      "Epoch 27/150\n",
      "23/23 [==============================] - 1s 53ms/step - loss: 0.6796 - accuracy: 0.7795 - val_loss: 0.6003 - val_accuracy: 0.8101\n",
      "Epoch 28/150\n",
      "23/23 [==============================] - 1s 57ms/step - loss: 0.6969 - accuracy: 0.7612 - val_loss: 0.5804 - val_accuracy: 0.8212\n",
      "Epoch 29/150\n",
      "23/23 [==============================] - 1s 57ms/step - loss: 0.6858 - accuracy: 0.7739 - val_loss: 0.5713 - val_accuracy: 0.8156\n",
      "Epoch 30/150\n",
      "23/23 [==============================] - 1s 62ms/step - loss: 0.6711 - accuracy: 0.7767 - val_loss: 0.5778 - val_accuracy: 0.8045\n",
      "Epoch 31/150\n",
      "23/23 [==============================] - 1s 61ms/step - loss: 0.6543 - accuracy: 0.7753 - val_loss: 0.5882 - val_accuracy: 0.8101\n",
      "Epoch 32/150\n",
      "23/23 [==============================] - 1s 54ms/step - loss: 0.6493 - accuracy: 0.7921 - val_loss: 0.5843 - val_accuracy: 0.8212\n",
      "Epoch 33/150\n",
      "23/23 [==============================] - 1s 60ms/step - loss: 0.6747 - accuracy: 0.7626 - val_loss: 0.5725 - val_accuracy: 0.8324\n",
      "Epoch 34/150\n",
      "23/23 [==============================] - 1s 57ms/step - loss: 0.6465 - accuracy: 0.7907 - val_loss: 0.5681 - val_accuracy: 0.8324\n",
      "Epoch 35/150\n",
      "23/23 [==============================] - 1s 54ms/step - loss: 0.6780 - accuracy: 0.7781 - val_loss: 0.5729 - val_accuracy: 0.8212\n",
      "Epoch 36/150\n",
      "23/23 [==============================] - 1s 53ms/step - loss: 0.6581 - accuracy: 0.7809 - val_loss: 0.5790 - val_accuracy: 0.8101\n",
      "Epoch 37/150\n",
      "23/23 [==============================] - 1s 52ms/step - loss: 0.6504 - accuracy: 0.7851 - val_loss: 0.5820 - val_accuracy: 0.8101\n",
      "Epoch 38/150\n",
      "23/23 [==============================] - 1s 52ms/step - loss: 0.6430 - accuracy: 0.7781 - val_loss: 0.5721 - val_accuracy: 0.7989\n",
      "Epoch 39/150\n",
      "23/23 [==============================] - 1s 53ms/step - loss: 0.6177 - accuracy: 0.8034 - val_loss: 0.5693 - val_accuracy: 0.8156\n",
      "Epoch 40/150\n",
      "23/23 [==============================] - 2s 78ms/step - loss: 0.6451 - accuracy: 0.7893 - val_loss: 0.5616 - val_accuracy: 0.8324\n",
      "Epoch 41/150\n",
      "23/23 [==============================] - 1s 64ms/step - loss: 0.6268 - accuracy: 0.7907 - val_loss: 0.5714 - val_accuracy: 0.8212\n",
      "Epoch 42/150\n",
      "23/23 [==============================] - 1s 55ms/step - loss: 0.6512 - accuracy: 0.7851 - val_loss: 0.5813 - val_accuracy: 0.7989\n",
      "Epoch 43/150\n",
      "23/23 [==============================] - 1s 54ms/step - loss: 0.6635 - accuracy: 0.7781 - val_loss: 0.5929 - val_accuracy: 0.7933\n",
      "Epoch 44/150\n",
      "23/23 [==============================] - 1s 52ms/step - loss: 0.6512 - accuracy: 0.7865 - val_loss: 0.5676 - val_accuracy: 0.8101\n",
      "Epoch 45/150\n",
      "23/23 [==============================] - 1s 56ms/step - loss: 0.6224 - accuracy: 0.7978 - val_loss: 0.5621 - val_accuracy: 0.8101\n",
      "Epoch 46/150\n",
      "23/23 [==============================] - 1s 57ms/step - loss: 0.6492 - accuracy: 0.7669 - val_loss: 0.5613 - val_accuracy: 0.8156\n",
      "Epoch 47/150\n",
      "23/23 [==============================] - 1s 58ms/step - loss: 0.6404 - accuracy: 0.7767 - val_loss: 0.7053 - val_accuracy: 0.7095\n",
      "Epoch 48/150\n",
      "23/23 [==============================] - 1s 57ms/step - loss: 0.6253 - accuracy: 0.7893 - val_loss: 0.6708 - val_accuracy: 0.7207\n",
      "Epoch 49/150\n",
      "23/23 [==============================] - 1s 56ms/step - loss: 0.6255 - accuracy: 0.7809 - val_loss: 0.5871 - val_accuracy: 0.7821\n",
      "Epoch 50/150\n",
      "23/23 [==============================] - 1s 54ms/step - loss: 0.6293 - accuracy: 0.7893 - val_loss: 0.5603 - val_accuracy: 0.8156\n",
      "Epoch 51/150\n",
      "23/23 [==============================] - 1s 56ms/step - loss: 0.6210 - accuracy: 0.7753 - val_loss: 0.5622 - val_accuracy: 0.8045\n",
      "Epoch 52/150\n",
      "23/23 [==============================] - 1s 53ms/step - loss: 0.6041 - accuracy: 0.8132 - val_loss: 0.5523 - val_accuracy: 0.8156\n",
      "Epoch 53/150\n",
      "23/23 [==============================] - 1s 57ms/step - loss: 0.6095 - accuracy: 0.7893 - val_loss: 0.5499 - val_accuracy: 0.8212\n",
      "Epoch 54/150\n",
      "23/23 [==============================] - 2s 72ms/step - loss: 0.6199 - accuracy: 0.7978 - val_loss: 0.5615 - val_accuracy: 0.8045\n",
      "Epoch 55/150\n",
      "23/23 [==============================] - 2s 69ms/step - loss: 0.6009 - accuracy: 0.8104 - val_loss: 0.5432 - val_accuracy: 0.8156\n",
      "Epoch 56/150\n",
      "23/23 [==============================] - 1s 62ms/step - loss: 0.6267 - accuracy: 0.7879 - val_loss: 0.5333 - val_accuracy: 0.8212\n",
      "Epoch 57/150\n",
      "23/23 [==============================] - 1s 61ms/step - loss: 0.6202 - accuracy: 0.7921 - val_loss: 0.5394 - val_accuracy: 0.8268\n",
      "Epoch 58/150\n",
      "23/23 [==============================] - 1s 60ms/step - loss: 0.6123 - accuracy: 0.7795 - val_loss: 0.5389 - val_accuracy: 0.8268\n",
      "Epoch 59/150\n",
      "23/23 [==============================] - 1s 56ms/step - loss: 0.5983 - accuracy: 0.8006 - val_loss: 0.5456 - val_accuracy: 0.8156\n",
      "Epoch 60/150\n",
      "23/23 [==============================] - 1s 53ms/step - loss: 0.5877 - accuracy: 0.8062 - val_loss: 0.5454 - val_accuracy: 0.8156\n",
      "Epoch 61/150\n",
      "23/23 [==============================] - 1s 53ms/step - loss: 0.6052 - accuracy: 0.7879 - val_loss: 0.5380 - val_accuracy: 0.8268\n",
      "Epoch 62/150\n",
      "23/23 [==============================] - 1s 57ms/step - loss: 0.6090 - accuracy: 0.8006 - val_loss: 0.5295 - val_accuracy: 0.8268\n",
      "Epoch 63/150\n",
      "23/23 [==============================] - 1s 56ms/step - loss: 0.5857 - accuracy: 0.8132 - val_loss: 0.5238 - val_accuracy: 0.8324\n",
      "Epoch 64/150\n",
      "23/23 [==============================] - 1s 54ms/step - loss: 0.5963 - accuracy: 0.7963 - val_loss: 0.5234 - val_accuracy: 0.8268\n",
      "Epoch 65/150\n",
      "23/23 [==============================] - 1s 55ms/step - loss: 0.6016 - accuracy: 0.7935 - val_loss: 0.5276 - val_accuracy: 0.8268\n",
      "Epoch 66/150\n",
      "23/23 [==============================] - 1s 55ms/step - loss: 0.5781 - accuracy: 0.8174 - val_loss: 0.5277 - val_accuracy: 0.8156\n",
      "Epoch 67/150\n",
      "23/23 [==============================] - 1s 57ms/step - loss: 0.5709 - accuracy: 0.8132 - val_loss: 0.5478 - val_accuracy: 0.8101\n",
      "Epoch 68/150\n",
      "23/23 [==============================] - 2s 67ms/step - loss: 0.5668 - accuracy: 0.8006 - val_loss: 0.5395 - val_accuracy: 0.8045\n",
      "Epoch 69/150\n",
      "23/23 [==============================] - 1s 50ms/step - loss: 0.5749 - accuracy: 0.7921 - val_loss: 0.5327 - val_accuracy: 0.8324\n",
      "Epoch 70/150\n",
      "23/23 [==============================] - 1s 52ms/step - loss: 0.5883 - accuracy: 0.7865 - val_loss: 0.5232 - val_accuracy: 0.8101\n",
      "Epoch 71/150\n",
      "23/23 [==============================] - 1s 54ms/step - loss: 0.6122 - accuracy: 0.7809 - val_loss: 0.5156 - val_accuracy: 0.8101\n",
      "Epoch 72/150\n",
      "23/23 [==============================] - 1s 53ms/step - loss: 0.6019 - accuracy: 0.7697 - val_loss: 0.5200 - val_accuracy: 0.8101\n",
      "Epoch 73/150\n",
      "23/23 [==============================] - 1s 51ms/step - loss: 0.5848 - accuracy: 0.8188 - val_loss: 0.5249 - val_accuracy: 0.8156\n",
      "Epoch 74/150\n",
      "23/23 [==============================] - 1s 57ms/step - loss: 0.5579 - accuracy: 0.8160 - val_loss: 0.5077 - val_accuracy: 0.8156\n",
      "Epoch 75/150\n",
      "23/23 [==============================] - 1s 62ms/step - loss: 0.5557 - accuracy: 0.8118 - val_loss: 0.5179 - val_accuracy: 0.8156\n",
      "Epoch 76/150\n",
      "23/23 [==============================] - 1s 58ms/step - loss: 0.5706 - accuracy: 0.7865 - val_loss: 0.5164 - val_accuracy: 0.8156\n",
      "Epoch 77/150\n",
      "23/23 [==============================] - 1s 55ms/step - loss: 0.5962 - accuracy: 0.7907 - val_loss: 0.5177 - val_accuracy: 0.8156\n",
      "Epoch 78/150\n",
      "23/23 [==============================] - 1s 56ms/step - loss: 0.5675 - accuracy: 0.7949 - val_loss: 0.5121 - val_accuracy: 0.8101\n",
      "Epoch 79/150\n",
      "23/23 [==============================] - 2s 65ms/step - loss: 0.5822 - accuracy: 0.7949 - val_loss: 0.5076 - val_accuracy: 0.8380\n",
      "Epoch 80/150\n",
      "23/23 [==============================] - 1s 57ms/step - loss: 0.5689 - accuracy: 0.7963 - val_loss: 0.5158 - val_accuracy: 0.8212\n",
      "Epoch 81/150\n",
      "23/23 [==============================] - 1s 55ms/step - loss: 0.5661 - accuracy: 0.7992 - val_loss: 0.5099 - val_accuracy: 0.8212\n",
      "Epoch 82/150\n",
      "23/23 [==============================] - 1s 55ms/step - loss: 0.5785 - accuracy: 0.7978 - val_loss: 0.5055 - val_accuracy: 0.8268\n",
      "Epoch 83/150\n",
      "23/23 [==============================] - 1s 63ms/step - loss: 0.5665 - accuracy: 0.8020 - val_loss: 0.5019 - val_accuracy: 0.8268\n",
      "Epoch 84/150\n",
      "23/23 [==============================] - 1s 56ms/step - loss: 0.5488 - accuracy: 0.8076 - val_loss: 0.5062 - val_accuracy: 0.8268\n",
      "Epoch 85/150\n",
      "23/23 [==============================] - 1s 56ms/step - loss: 0.5578 - accuracy: 0.8020 - val_loss: 0.4981 - val_accuracy: 0.8268\n",
      "Epoch 86/150\n",
      "23/23 [==============================] - 1s 55ms/step - loss: 0.5639 - accuracy: 0.8118 - val_loss: 0.5007 - val_accuracy: 0.8268\n",
      "Epoch 87/150\n",
      "23/23 [==============================] - 1s 58ms/step - loss: 0.5501 - accuracy: 0.8062 - val_loss: 0.4924 - val_accuracy: 0.8380\n",
      "Epoch 88/150\n",
      "23/23 [==============================] - 2s 66ms/step - loss: 0.5607 - accuracy: 0.7921 - val_loss: 0.4875 - val_accuracy: 0.8380\n",
      "Epoch 89/150\n",
      "23/23 [==============================] - 1s 65ms/step - loss: 0.5592 - accuracy: 0.7992 - val_loss: 0.4844 - val_accuracy: 0.8380\n",
      "Epoch 90/150\n",
      "23/23 [==============================] - 2s 71ms/step - loss: 0.5731 - accuracy: 0.8034 - val_loss: 0.4882 - val_accuracy: 0.8436\n",
      "Epoch 91/150\n",
      "23/23 [==============================] - 1s 54ms/step - loss: 0.5843 - accuracy: 0.7879 - val_loss: 0.4873 - val_accuracy: 0.8436\n",
      "Epoch 92/150\n",
      "23/23 [==============================] - 1s 53ms/step - loss: 0.5461 - accuracy: 0.8174 - val_loss: 0.4964 - val_accuracy: 0.8380\n",
      "Epoch 93/150\n",
      "23/23 [==============================] - 1s 54ms/step - loss: 0.5416 - accuracy: 0.8160 - val_loss: 0.5063 - val_accuracy: 0.8324\n",
      "Epoch 94/150\n",
      "23/23 [==============================] - 1s 53ms/step - loss: 0.5543 - accuracy: 0.8034 - val_loss: 0.4961 - val_accuracy: 0.8268\n",
      "Epoch 95/150\n",
      "23/23 [==============================] - 1s 54ms/step - loss: 0.5485 - accuracy: 0.8132 - val_loss: 0.4926 - val_accuracy: 0.8156\n",
      "Epoch 96/150\n",
      "23/23 [==============================] - 1s 53ms/step - loss: 0.5374 - accuracy: 0.8146 - val_loss: 0.4874 - val_accuracy: 0.8212\n",
      "Epoch 97/150\n",
      "23/23 [==============================] - 1s 51ms/step - loss: 0.5573 - accuracy: 0.7963 - val_loss: 0.4906 - val_accuracy: 0.8212\n",
      "Epoch 98/150\n",
      "23/23 [==============================] - 1s 58ms/step - loss: 0.5379 - accuracy: 0.8160 - val_loss: 0.4951 - val_accuracy: 0.8212\n",
      "Epoch 99/150\n",
      "23/23 [==============================] - 1s 53ms/step - loss: 0.5726 - accuracy: 0.7963 - val_loss: 0.5006 - val_accuracy: 0.8212\n",
      "Epoch 100/150\n",
      "23/23 [==============================] - 1s 59ms/step - loss: 0.5377 - accuracy: 0.8020 - val_loss: 0.4938 - val_accuracy: 0.8212\n",
      "Epoch 101/150\n",
      "23/23 [==============================] - 2s 68ms/step - loss: 0.5463 - accuracy: 0.8118 - val_loss: 0.4908 - val_accuracy: 0.8212\n",
      "Epoch 102/150\n",
      "23/23 [==============================] - 1s 56ms/step - loss: 0.5298 - accuracy: 0.8062 - val_loss: 0.4928 - val_accuracy: 0.8212\n",
      "Epoch 103/150\n",
      "23/23 [==============================] - 1s 59ms/step - loss: 0.5383 - accuracy: 0.7907 - val_loss: 0.4949 - val_accuracy: 0.8212\n",
      "Epoch 104/150\n",
      "23/23 [==============================] - 2s 67ms/step - loss: 0.5269 - accuracy: 0.8315 - val_loss: 0.5004 - val_accuracy: 0.8156\n",
      "Epoch 105/150\n",
      "23/23 [==============================] - 2s 74ms/step - loss: 0.5472 - accuracy: 0.8076 - val_loss: 0.4890 - val_accuracy: 0.8212\n",
      "Epoch 106/150\n",
      "23/23 [==============================] - 2s 69ms/step - loss: 0.5442 - accuracy: 0.8048 - val_loss: 0.4877 - val_accuracy: 0.8268\n",
      "Epoch 107/150\n",
      "23/23 [==============================] - 1s 63ms/step - loss: 0.5505 - accuracy: 0.7949 - val_loss: 0.4814 - val_accuracy: 0.8268\n",
      "Epoch 108/150\n",
      "23/23 [==============================] - 1s 54ms/step - loss: 0.5434 - accuracy: 0.8034 - val_loss: 0.4767 - val_accuracy: 0.8268\n",
      "Epoch 109/150\n",
      "23/23 [==============================] - 1s 53ms/step - loss: 0.5272 - accuracy: 0.8160 - val_loss: 0.4788 - val_accuracy: 0.8212\n",
      "Epoch 110/150\n",
      "23/23 [==============================] - 1s 60ms/step - loss: 0.5193 - accuracy: 0.8132 - val_loss: 0.4667 - val_accuracy: 0.8268\n",
      "Epoch 111/150\n",
      "23/23 [==============================] - 1s 56ms/step - loss: 0.5228 - accuracy: 0.8118 - val_loss: 0.4710 - val_accuracy: 0.8268\n",
      "Epoch 112/150\n",
      "23/23 [==============================] - 1s 64ms/step - loss: 0.5236 - accuracy: 0.8174 - val_loss: 0.4723 - val_accuracy: 0.8268\n",
      "Epoch 113/150\n",
      "23/23 [==============================] - 1s 52ms/step - loss: 0.5376 - accuracy: 0.8076 - val_loss: 0.4850 - val_accuracy: 0.8212\n",
      "Epoch 114/150\n",
      "23/23 [==============================] - 1s 52ms/step - loss: 0.5535 - accuracy: 0.8034 - val_loss: 0.4810 - val_accuracy: 0.8156\n",
      "Epoch 115/150\n",
      "23/23 [==============================] - 1s 51ms/step - loss: 0.5194 - accuracy: 0.8132 - val_loss: 0.4855 - val_accuracy: 0.8268\n",
      "Epoch 116/150\n",
      "23/23 [==============================] - 1s 57ms/step - loss: 0.5228 - accuracy: 0.8174 - val_loss: 0.4837 - val_accuracy: 0.8268\n",
      "Epoch 117/150\n",
      "23/23 [==============================] - 1s 53ms/step - loss: 0.5284 - accuracy: 0.8048 - val_loss: 0.4877 - val_accuracy: 0.8268\n",
      "Epoch 118/150\n",
      "23/23 [==============================] - 1s 60ms/step - loss: 0.5304 - accuracy: 0.8160 - val_loss: 0.4780 - val_accuracy: 0.8324\n",
      "Epoch 119/150\n",
      "23/23 [==============================] - 1s 58ms/step - loss: 0.5195 - accuracy: 0.8272 - val_loss: 0.4841 - val_accuracy: 0.8268\n",
      "Epoch 120/150\n",
      "23/23 [==============================] - 1s 55ms/step - loss: 0.5247 - accuracy: 0.7949 - val_loss: 0.4759 - val_accuracy: 0.8324\n",
      "Epoch 121/150\n",
      "23/23 [==============================] - 1s 55ms/step - loss: 0.4960 - accuracy: 0.8230 - val_loss: 0.4721 - val_accuracy: 0.8212\n",
      "Epoch 122/150\n",
      "23/23 [==============================] - 1s 52ms/step - loss: 0.5294 - accuracy: 0.8006 - val_loss: 0.4794 - val_accuracy: 0.8268\n",
      "Epoch 123/150\n",
      "23/23 [==============================] - 1s 52ms/step - loss: 0.5229 - accuracy: 0.8160 - val_loss: 0.4799 - val_accuracy: 0.8324\n",
      "Epoch 124/150\n",
      "23/23 [==============================] - 1s 52ms/step - loss: 0.5067 - accuracy: 0.8104 - val_loss: 0.4767 - val_accuracy: 0.8268\n",
      "Epoch 125/150\n",
      "23/23 [==============================] - 1s 51ms/step - loss: 0.5383 - accuracy: 0.8090 - val_loss: 0.4708 - val_accuracy: 0.8268\n",
      "Epoch 126/150\n",
      "23/23 [==============================] - 1s 53ms/step - loss: 0.5063 - accuracy: 0.8132 - val_loss: 0.4716 - val_accuracy: 0.8324\n",
      "Epoch 127/150\n",
      "23/23 [==============================] - 1s 52ms/step - loss: 0.4977 - accuracy: 0.8090 - val_loss: 0.4677 - val_accuracy: 0.8324\n",
      "Epoch 128/150\n",
      "23/23 [==============================] - 1s 57ms/step - loss: 0.4925 - accuracy: 0.8160 - val_loss: 0.4702 - val_accuracy: 0.8268\n",
      "Epoch 129/150\n",
      "23/23 [==============================] - 1s 54ms/step - loss: 0.5265 - accuracy: 0.8104 - val_loss: 0.4850 - val_accuracy: 0.8212\n",
      "Epoch 130/150\n",
      "23/23 [==============================] - 1s 51ms/step - loss: 0.5059 - accuracy: 0.8160 - val_loss: 0.4795 - val_accuracy: 0.8324\n",
      "Epoch 131/150\n",
      "23/23 [==============================] - 1s 60ms/step - loss: 0.5072 - accuracy: 0.8076 - val_loss: 0.4836 - val_accuracy: 0.8324\n",
      "Epoch 132/150\n",
      "23/23 [==============================] - 1s 56ms/step - loss: 0.5108 - accuracy: 0.8230 - val_loss: 0.4823 - val_accuracy: 0.8212\n",
      "Epoch 133/150\n",
      "23/23 [==============================] - 1s 60ms/step - loss: 0.5117 - accuracy: 0.8188 - val_loss: 0.4944 - val_accuracy: 0.8156\n",
      "Epoch 134/150\n",
      "23/23 [==============================] - 1s 53ms/step - loss: 0.4906 - accuracy: 0.8048 - val_loss: 0.4762 - val_accuracy: 0.8212\n",
      "Epoch 135/150\n",
      "23/23 [==============================] - 1s 53ms/step - loss: 0.5016 - accuracy: 0.8132 - val_loss: 0.4658 - val_accuracy: 0.8212\n",
      "Epoch 136/150\n",
      "23/23 [==============================] - 1s 55ms/step - loss: 0.5035 - accuracy: 0.8104 - val_loss: 0.4639 - val_accuracy: 0.8268\n",
      "Epoch 137/150\n",
      "23/23 [==============================] - 1s 56ms/step - loss: 0.5272 - accuracy: 0.8062 - val_loss: 0.4750 - val_accuracy: 0.8268\n",
      "Epoch 138/150\n",
      "23/23 [==============================] - 1s 55ms/step - loss: 0.5129 - accuracy: 0.8076 - val_loss: 0.4641 - val_accuracy: 0.8212\n",
      "Epoch 139/150\n",
      "23/23 [==============================] - 1s 57ms/step - loss: 0.5046 - accuracy: 0.8062 - val_loss: 0.4597 - val_accuracy: 0.8268\n",
      "Epoch 140/150\n",
      "23/23 [==============================] - 1s 60ms/step - loss: 0.5095 - accuracy: 0.8062 - val_loss: 0.4602 - val_accuracy: 0.8212\n",
      "Epoch 141/150\n",
      "23/23 [==============================] - 1s 51ms/step - loss: 0.4921 - accuracy: 0.8118 - val_loss: 0.4557 - val_accuracy: 0.8268\n",
      "Epoch 142/150\n",
      "23/23 [==============================] - 1s 55ms/step - loss: 0.5088 - accuracy: 0.8118 - val_loss: 0.4606 - val_accuracy: 0.8212\n",
      "Epoch 143/150\n",
      "23/23 [==============================] - 1s 53ms/step - loss: 0.4997 - accuracy: 0.8188 - val_loss: 0.4681 - val_accuracy: 0.8268\n",
      "Epoch 144/150\n",
      "23/23 [==============================] - 1s 57ms/step - loss: 0.5036 - accuracy: 0.8244 - val_loss: 0.4626 - val_accuracy: 0.8268\n",
      "Epoch 145/150\n",
      "23/23 [==============================] - 1s 52ms/step - loss: 0.5059 - accuracy: 0.8132 - val_loss: 0.4630 - val_accuracy: 0.8212\n",
      "Epoch 146/150\n",
      "23/23 [==============================] - 1s 53ms/step - loss: 0.4938 - accuracy: 0.8188 - val_loss: 0.4668 - val_accuracy: 0.8380\n",
      "Epoch 147/150\n",
      "23/23 [==============================] - 1s 58ms/step - loss: 0.5058 - accuracy: 0.8104 - val_loss: 0.4651 - val_accuracy: 0.8268\n",
      "Epoch 148/150\n",
      "23/23 [==============================] - 1s 57ms/step - loss: 0.5042 - accuracy: 0.8034 - val_loss: 0.4742 - val_accuracy: 0.8268\n",
      "Epoch 149/150\n",
      "23/23 [==============================] - 1s 54ms/step - loss: 0.4916 - accuracy: 0.8230 - val_loss: 0.4747 - val_accuracy: 0.8324\n",
      "Epoch 150/150\n",
      "23/23 [==============================] - 1s 65ms/step - loss: 0.4899 - accuracy: 0.8160 - val_loss: 0.4528 - val_accuracy: 0.8268\n"
     ]
    }
   ],
   "source": [
    "history=model.fit(X,y,epochs=epoch,batch_size=32,validation_split=0.2)"
   ]
  },
  {
   "cell_type": "markdown",
   "metadata": {},
   "source": [
    "### 5. Result"
   ]
  },
  {
   "cell_type": "code",
   "execution_count": 18,
   "metadata": {},
   "outputs": [],
   "source": [
    "### train 한 결과중 정확도, 손실을 출력 \n",
    "acc = history.history['accuracy'] \n",
    "val_acc = history.history['val_accuracy']\n",
    "loss = history.history['loss']\n",
    "val_loss = history.history['val_loss']"
   ]
  },
  {
   "cell_type": "markdown",
   "metadata": {},
   "source": [
    "### 5.1 Loss Plot"
   ]
  },
  {
   "cell_type": "code",
   "execution_count": 19,
   "metadata": {},
   "outputs": [
    {
     "data": {
      "text/plain": [
       "<matplotlib.legend.Legend at 0x2894057f0>"
      ]
     },
     "execution_count": 19,
     "metadata": {},
     "output_type": "execute_result"
    },
    {
     "data": {
      "image/png": "[encoded data removed]",
      "text/plain": [
       "<Figure size 432x288 with 1 Axes>"
      ]
     },
     "metadata": {
      "needs_background": "light"
     },
     "output_type": "display_data"
    }
   ],
   "source": [
    "epochs=np.arange(1,len(acc)+1)\n",
    "\n",
    "plt.plot(epochs, loss, 'r', label='Training loss')\n",
    "plt.plot(epochs, val_loss, 'b', label='Validation loss')\n",
    "plt.title('Loss')\n",
    "plt.xlabel('epochs')\n",
    "plt.ylabel('Loss')\n",
    "plt.legend()   "
   ]
  },
  {
   "cell_type": "markdown",
   "metadata": {},
   "source": [
    "### 5.2. Acc plot"
   ]
  },
  {
   "cell_type": "code",
   "execution_count": 20,
   "metadata": {},
   "outputs": [
    {
     "data": {
      "text/plain": [
       "<matplotlib.legend.Legend at 0x162a34e20>"
      ]
     },
     "execution_count": 20,
     "metadata": {},
     "output_type": "execute_result"
    },
    {
     "data": {
      "image/png": "[encoded data removed]",
      "text/plain": [
       "<Figure size 432x288 with 1 Axes>"
      ]
     },
     "metadata": {
      "needs_background": "light"
     },
     "output_type": "display_data"
    }
   ],
   "source": [
    "plt.plot(epochs, acc, 'r', label='Training acc')\n",
    "plt.plot(epochs, val_acc, 'b', label='Validation acc')\n",
    "plt.title('Acc')\n",
    "plt.xlabel('epochs')\n",
    "plt.ylabel('accuracy')\n",
    "plt.legend()"
   ]
  },
  {
   "cell_type": "markdown",
   "metadata": {},
   "source": [
    "### 6. Test"
   ]
  },
  {
   "cell_type": "code",
   "execution_count": 21,
   "metadata": {},
   "outputs": [
    {
     "name": "stdout",
     "output_type": "stream",
     "text": [
      "<class 'pandas.core.frame.DataFrame'>\n",
      "RangeIndex: 418 entries, 0 to 417\n",
      "Data columns (total 11 columns):\n",
      " #   Column       Non-Null Count  Dtype  \n",
      "---  ------       --------------  -----  \n",
      " 0   PassengerId  418 non-null    int64  \n",
      " 1   Pclass       418 non-null    int64  \n",
      " 2   Name         418 non-null    object \n",
      " 3   Sex          418 non-null    object \n",
      " 4   Age          332 non-null    float64\n",
      " 5   SibSp        418 non-null    int64  \n",
      " 6   Parch        418 non-null    int64  \n",
      " 7   Ticket       418 non-null    object \n",
      " 8   Fare         417 non-null    float64\n",
      " 9   Cabin        91 non-null     object \n",
      " 10  Embarked     418 non-null    object \n",
      "dtypes: float64(2), int64(4), object(5)\n",
      "memory usage: 36.0+ KB\n"
     ]
    }
   ],
   "source": [
    "test.info() # test 데이터는 위에서 사용한 변수중 Age와 Fare에 nan값이 존재하는 것을 확인"
   ]
  },
  {
   "cell_type": "code",
   "execution_count": 22,
   "metadata": {},
   "outputs": [
    {
     "data": {
      "text/html": [
       "<div>\n",
       "<style scoped>\n",
       "    .dataframe tbody tr th:only-of-type {\n",
       "        vertical-align: middle;\n",
       "    }\n",
       "\n",
       "    .dataframe tbody tr th {\n",
       "        vertical-align: top;\n",
       "    }\n",
       "\n",
       "    .dataframe thead th {\n",
       "        text-align: right;\n",
       "    }\n",
       "</style>\n",
       "<table border=\"1\" class=\"dataframe\">\n",
       "  <thead>\n",
       "    <tr style=\"text-align: right;\">\n",
       "      <th></th>\n",
       "      <th>PassengerId</th>\n",
       "      <th>Pclass</th>\n",
       "      <th>Age</th>\n",
       "      <th>SibSp</th>\n",
       "      <th>Parch</th>\n",
       "      <th>Fare</th>\n",
       "    </tr>\n",
       "  </thead>\n",
       "  <tbody>\n",
       "    <tr>\n",
       "      <th>count</th>\n",
       "      <td>418.000000</td>\n",
       "      <td>418.000000</td>\n",
       "      <td>332.000000</td>\n",
       "      <td>418.000000</td>\n",
       "      <td>418.000000</td>\n",
       "      <td>417.000000</td>\n",
       "    </tr>\n",
       "    <tr>\n",
       "      <th>mean</th>\n",
       "      <td>1100.500000</td>\n",
       "      <td>2.265550</td>\n",
       "      <td>30.272590</td>\n",
       "      <td>0.447368</td>\n",
       "      <td>0.392344</td>\n",
       "      <td>35.627188</td>\n",
       "    </tr>\n",
       "    <tr>\n",
       "      <th>std</th>\n",
       "      <td>120.810458</td>\n",
       "      <td>0.841838</td>\n",
       "      <td>14.181209</td>\n",
       "      <td>0.896760</td>\n",
       "      <td>0.981429</td>\n",
       "      <td>55.907576</td>\n",
       "    </tr>\n",
       "    <tr>\n",
       "      <th>min</th>\n",
       "      <td>892.000000</td>\n",
       "      <td>1.000000</td>\n",
       "      <td>0.170000</td>\n",
       "      <td>0.000000</td>\n",
       "      <td>0.000000</td>\n",
       "      <td>0.000000</td>\n",
       "    </tr>\n",
       "    <tr>\n",
       "      <th>25%</th>\n",
       "      <td>996.250000</td>\n",
       "      <td>1.000000</td>\n",
       "      <td>21.000000</td>\n",
       "      <td>0.000000</td>\n",
       "      <td>0.000000</td>\n",
       "      <td>7.895800</td>\n",
       "    </tr>\n",
       "    <tr>\n",
       "      <th>50%</th>\n",
       "      <td>1100.500000</td>\n",
       "      <td>3.000000</td>\n",
       "      <td>27.000000</td>\n",
       "      <td>0.000000</td>\n",
       "      <td>0.000000</td>\n",
       "      <td>14.454200</td>\n",
       "    </tr>\n",
       "    <tr>\n",
       "      <th>75%</th>\n",
       "      <td>1204.750000</td>\n",
       "      <td>3.000000</td>\n",
       "      <td>39.000000</td>\n",
       "      <td>1.000000</td>\n",
       "      <td>0.000000</td>\n",
       "      <td>31.500000</td>\n",
       "    </tr>\n",
       "    <tr>\n",
       "      <th>max</th>\n",
       "      <td>1309.000000</td>\n",
       "      <td>3.000000</td>\n",
       "      <td>76.000000</td>\n",
       "      <td>8.000000</td>\n",
       "      <td>9.000000</td>\n",
       "      <td>512.329200</td>\n",
       "    </tr>\n",
       "  </tbody>\n",
       "</table>\n",
       "</div>"
      ],
      "text/plain": [
       "       PassengerId      Pclass         Age       SibSp       Parch        Fare\n",
       "count   418.000000  418.000000  332.000000  418.000000  418.000000  417.000000\n",
       "mean   1100.500000    2.265550   30.272590    0.447368    0.392344   35.627188\n",
       "std     120.810458    0.841838   14.181209    0.896760    0.981429   55.907576\n",
       "min     892.000000    1.000000    0.170000    0.000000    0.000000    0.000000\n",
       "25%     996.250000    1.000000   21.000000    0.000000    0.000000    7.895800\n",
       "50%    1100.500000    3.000000   27.000000    0.000000    0.000000   14.454200\n",
       "75%    1204.750000    3.000000   39.000000    1.000000    0.000000   31.500000\n",
       "max    1309.000000    3.000000   76.000000    8.000000    9.000000  512.329200"
      ]
     },
     "execution_count": 22,
     "metadata": {},
     "output_type": "execute_result"
    }
   ],
   "source": [
    "test.describe()"
   ]
  },
  {
   "cell_type": "markdown",
   "metadata": {},
   "source": [
    "### 6-1. Test 데이터 전처리"
   ]
  },
  {
   "cell_type": "code",
   "execution_count": 23,
   "metadata": {},
   "outputs": [
    {
     "name": "stdout",
     "output_type": "stream",
     "text": [
      "test data의 Age의 nan값의 개수 : 86\n"
     ]
    }
   ],
   "source": [
    "print('test data의 Age의 nan값의 개수 : {}'.format(test.Age.isna().sum())) # train_data.nan 값의 개수를 확인"
   ]
  },
  {
   "cell_type": "code",
   "execution_count": 24,
   "metadata": {},
   "outputs": [
    {
     "name": "stdout",
     "output_type": "stream",
     "text": [
      "test의 Age의 nan값의 개수 : 0\n"
     ]
    }
   ],
   "source": [
    "test['Age']=test[['Age','Pclass']].apply(nanAge,axis=1)\n",
    "\n",
    "print('test의 Age의 nan값의 개수 : {}'.format(test.Age.isna().sum())) # train_data.Age의 nan 값의 개수를 확인"
   ]
  },
  {
   "cell_type": "code",
   "execution_count": 25,
   "metadata": {},
   "outputs": [],
   "source": [
    "test['Fare'].fillna(test['Fare'].mode()[0], inplace = True) # test 데이터의 Fare값은 1개. 이를 첫번째 데이터와 같다고 보았음"
   ]
  },
  {
   "cell_type": "markdown",
   "metadata": {},
   "source": [
    "### 6-2. Testing"
   ]
  },
  {
   "cell_type": "code",
   "execution_count": 26,
   "metadata": {},
   "outputs": [],
   "source": [
    "X_t=predata(test)"
   ]
  },
  {
   "cell_type": "code",
   "execution_count": 27,
   "metadata": {},
   "outputs": [
    {
     "name": "stdout",
     "output_type": "stream",
     "text": [
      "[[2 1 0 3 1 0]\n",
      " [2 0 1 3 2 0]\n",
      " [3 1 0 2 1 1]\n",
      " ...\n",
      " [2 1 0 3 2 0]\n",
      " [1 1 0 3 2 1]\n",
      " [1 1 1 3 0 3]]\n"
     ]
    }
   ],
   "source": [
    "print(X_t) # test를 진행한 test 데이터를 출력"
   ]
  },
  {
   "cell_type": "code",
   "execution_count": 28,
   "metadata": {},
   "outputs": [
    {
     "name": "stderr",
     "output_type": "stream",
     "text": [
      "2021-12-21 15:11:06.657816: I tensorflow/core/grappler/optimizers/custom_graph_optimizer_registry.cc:112] Plugin optimizer for device_type GPU is enabled.\n"
     ]
    }
   ],
   "source": [
    "predict=model.predict(X_t) # model에 이 test data를 집어넣어 Survived or dead를 확인 "
   ]
  },
  {
   "cell_type": "code",
   "execution_count": 29,
   "metadata": {},
   "outputs": [],
   "source": [
    "predict=(predict>0.5).astype(int).ravel() # sigmoid는 0또는 1을 출력하는 것이 아니기 때문에 반올림을 해주어야 함 \n"
   ]
  },
  {
   "cell_type": "code",
   "execution_count": 30,
   "metadata": {},
   "outputs": [],
   "source": [
    "predict=predict.tolist() # array로 진행을 하였기 때문에 이를 list로 변환 \n"
   ]
  },
  {
   "cell_type": "code",
   "execution_count": 31,
   "metadata": {},
   "outputs": [
    {
     "data": {
      "text/plain": [
       "[0,\n",
       " 0,\n",
       " 0,\n",
       " 0,\n",
       " 0,\n",
       " 0,\n",
       " 1,\n",
       " 0,\n",
       " 1,\n",
       " 0,\n",
       " 0,\n",
       " 0,\n",
       " 1,\n",
       " 0,\n",
       " 1,\n",
       " 1,\n",
       " 0,\n",
       " 0,\n",
       " 1,\n",
       " 1,\n",
       " 0,\n",
       " 0,\n",
       " 1,\n",
       " 0,\n",
       " 1,\n",
       " 0,\n",
       " 1,\n",
       " 0,\n",
       " 0,\n",
       " 0,\n",
       " 0,\n",
       " 0,\n",
       " 1,\n",
       " 0,\n",
       " 0,\n",
       " 0,\n",
       " 0,\n",
       " 0,\n",
       " 0,\n",
       " 0,\n",
       " 0,\n",
       " 0,\n",
       " 0,\n",
       " 1,\n",
       " 1,\n",
       " 0,\n",
       " 0,\n",
       " 0,\n",
       " 1,\n",
       " 1,\n",
       " 0,\n",
       " 0,\n",
       " 1,\n",
       " 1,\n",
       " 0,\n",
       " 0,\n",
       " 0,\n",
       " 0,\n",
       " 0,\n",
       " 1,\n",
       " 0,\n",
       " 0,\n",
       " 0,\n",
       " 1,\n",
       " 0,\n",
       " 1,\n",
       " 1,\n",
       " 0,\n",
       " 1,\n",
       " 1,\n",
       " 1,\n",
       " 0,\n",
       " 1,\n",
       " 1,\n",
       " 1,\n",
       " 0,\n",
       " 0,\n",
       " 1,\n",
       " 0,\n",
       " 1,\n",
       " 0,\n",
       " 0,\n",
       " 0,\n",
       " 0,\n",
       " 0,\n",
       " 0,\n",
       " 1,\n",
       " 0,\n",
       " 1,\n",
       " 1,\n",
       " 0,\n",
       " 0,\n",
       " 1,\n",
       " 0,\n",
       " 1,\n",
       " 0,\n",
       " 1,\n",
       " 0,\n",
       " 1,\n",
       " 0,\n",
       " 1,\n",
       " 0,\n",
       " 0,\n",
       " 0,\n",
       " 1,\n",
       " 0,\n",
       " 0,\n",
       " 0,\n",
       " 0,\n",
       " 0,\n",
       " 0,\n",
       " 1,\n",
       " 1,\n",
       " 1,\n",
       " 1,\n",
       " 0,\n",
       " 0,\n",
       " 0,\n",
       " 0,\n",
       " 1,\n",
       " 1,\n",
       " 0,\n",
       " 1,\n",
       " 0,\n",
       " 0,\n",
       " 0,\n",
       " 0,\n",
       " 1,\n",
       " 0,\n",
       " 0,\n",
       " 0,\n",
       " 0,\n",
       " 0,\n",
       " 0,\n",
       " 0,\n",
       " 0,\n",
       " 0,\n",
       " 0,\n",
       " 0,\n",
       " 0,\n",
       " 0,\n",
       " 1,\n",
       " 0,\n",
       " 0,\n",
       " 0,\n",
       " 0,\n",
       " 0,\n",
       " 0,\n",
       " 0,\n",
       " 0,\n",
       " 1,\n",
       " 0,\n",
       " 0,\n",
       " 1,\n",
       " 0,\n",
       " 0,\n",
       " 1,\n",
       " 1,\n",
       " 0,\n",
       " 0,\n",
       " 1,\n",
       " 0,\n",
       " 1,\n",
       " 0,\n",
       " 0,\n",
       " 0,\n",
       " 0,\n",
       " 0,\n",
       " 1,\n",
       " 0,\n",
       " 0,\n",
       " 0,\n",
       " 0,\n",
       " 0,\n",
       " 0,\n",
       " 1,\n",
       " 1,\n",
       " 0,\n",
       " 1,\n",
       " 1,\n",
       " 0,\n",
       " 0,\n",
       " 1,\n",
       " 0,\n",
       " 1,\n",
       " 0,\n",
       " 1,\n",
       " 0,\n",
       " 0,\n",
       " 0,\n",
       " 0,\n",
       " 0,\n",
       " 0,\n",
       " 0,\n",
       " 1,\n",
       " 0,\n",
       " 0,\n",
       " 1,\n",
       " 0,\n",
       " 0,\n",
       " 0,\n",
       " 0,\n",
       " 0,\n",
       " 1,\n",
       " 0,\n",
       " 0,\n",
       " 0,\n",
       " 0,\n",
       " 1,\n",
       " 0,\n",
       " 0,\n",
       " 0,\n",
       " 0,\n",
       " 1,\n",
       " 0,\n",
       " 0,\n",
       " 1,\n",
       " 0,\n",
       " 1,\n",
       " 0,\n",
       " 1,\n",
       " 0,\n",
       " 1,\n",
       " 0,\n",
       " 0,\n",
       " 0,\n",
       " 0,\n",
       " 1,\n",
       " 0,\n",
       " 0,\n",
       " 0,\n",
       " 1,\n",
       " 0,\n",
       " 0,\n",
       " 0,\n",
       " 0,\n",
       " 0,\n",
       " 0,\n",
       " 1,\n",
       " 1,\n",
       " 0,\n",
       " 1,\n",
       " 0,\n",
       " 0,\n",
       " 0,\n",
       " 0,\n",
       " 1,\n",
       " 0,\n",
       " 1,\n",
       " 0,\n",
       " 1,\n",
       " 0,\n",
       " 0,\n",
       " 0,\n",
       " 0,\n",
       " 0,\n",
       " 0,\n",
       " 0,\n",
       " 1,\n",
       " 0,\n",
       " 0,\n",
       " 0,\n",
       " 1,\n",
       " 0,\n",
       " 0,\n",
       " 0,\n",
       " 0,\n",
       " 0,\n",
       " 0,\n",
       " 0,\n",
       " 0,\n",
       " 0,\n",
       " 1,\n",
       " 1,\n",
       " 0,\n",
       " 1,\n",
       " 0,\n",
       " 0,\n",
       " 0,\n",
       " 0,\n",
       " 0,\n",
       " 0,\n",
       " 1,\n",
       " 1,\n",
       " 0,\n",
       " 0,\n",
       " 0,\n",
       " 0,\n",
       " 0,\n",
       " 0,\n",
       " 0,\n",
       " 1,\n",
       " 0,\n",
       " 0,\n",
       " 0,\n",
       " 0,\n",
       " 1,\n",
       " 0,\n",
       " 0,\n",
       " 0,\n",
       " 0,\n",
       " 0,\n",
       " 0,\n",
       " 0,\n",
       " 1,\n",
       " 1,\n",
       " 0,\n",
       " 0,\n",
       " 0,\n",
       " 1,\n",
       " 0,\n",
       " 0,\n",
       " 0,\n",
       " 0,\n",
       " 1,\n",
       " 1,\n",
       " 0,\n",
       " 0,\n",
       " 0,\n",
       " 0,\n",
       " 0,\n",
       " 0,\n",
       " 0,\n",
       " 0,\n",
       " 1,\n",
       " 0,\n",
       " 1,\n",
       " 0,\n",
       " 0,\n",
       " 0,\n",
       " 1,\n",
       " 0,\n",
       " 0,\n",
       " 0,\n",
       " 0,\n",
       " 1,\n",
       " 0,\n",
       " 0,\n",
       " 0,\n",
       " 0,\n",
       " 0,\n",
       " 0,\n",
       " 0,\n",
       " 1,\n",
       " 0,\n",
       " 1,\n",
       " 0,\n",
       " 1,\n",
       " 0,\n",
       " 1,\n",
       " 1,\n",
       " 0,\n",
       " 0,\n",
       " 0,\n",
       " 0,\n",
       " 0,\n",
       " 1,\n",
       " 0,\n",
       " 0,\n",
       " 0,\n",
       " 0,\n",
       " 1,\n",
       " 1,\n",
       " 0,\n",
       " 1,\n",
       " 0,\n",
       " 0,\n",
       " 0,\n",
       " 1,\n",
       " 0,\n",
       " 0,\n",
       " 1,\n",
       " 0,\n",
       " 0,\n",
       " 1,\n",
       " 1,\n",
       " 0,\n",
       " 0,\n",
       " 0,\n",
       " 0,\n",
       " 0,\n",
       " 0,\n",
       " 0,\n",
       " 0,\n",
       " 0,\n",
       " 1,\n",
       " 0,\n",
       " 0,\n",
       " 0,\n",
       " 0,\n",
       " 0,\n",
       " 1,\n",
       " 0,\n",
       " 0,\n",
       " 0,\n",
       " 1,\n",
       " 0,\n",
       " 1,\n",
       " 0,\n",
       " 0,\n",
       " 1,\n",
       " 0,\n",
       " 1,\n",
       " 0,\n",
       " 0,\n",
       " 0,\n",
       " 0,\n",
       " 0,\n",
       " 1,\n",
       " 0,\n",
       " 1,\n",
       " 1,\n",
       " 1,\n",
       " 0,\n",
       " 1,\n",
       " 0,\n",
       " 0,\n",
       " 0]"
      ]
     },
     "execution_count": 31,
     "metadata": {},
     "output_type": "execute_result"
    }
   ],
   "source": [
    "predict  # Survived or Dead를 1차원 list로 출력하는것을 확인"
   ]
  },
  {
   "cell_type": "markdown",
   "metadata": {},
   "source": [
    "### 7. submission "
   ]
  },
  {
   "cell_type": "code",
   "execution_count": 32,
   "metadata": {},
   "outputs": [],
   "source": [
    "submit=pd.DataFrame({\"PassengerID\":test.PassengerId,\"Survived\":predict}) \n",
    "submit.to_csv(\"final_submission.csv\",index=False)"
   ]
  },
  {
   "cell_type": "markdown",
   "metadata": {},
   "source": [
    "## 8. Report "
   ]
  },
  {
   "cell_type": "markdown",
   "metadata": {},
   "source": [
    "http://rasbt.github.io/mlxtend/user_guide/evaluate/bias_variance_decomp/  # bias-variance decomposition에 대한 참고자료"
   ]
  },
  {
   "cell_type": "markdown",
   "metadata": {},
   "source": [
    "neural network(nn)을 택한 이유는 epoch, batch_size, optimizer, regulation, kernal_initializer을 계속해서 바꾸어주면서 train을 진행해 볼 수 있기 때문이었다.\n",
    "sklearn을 활용하여 decision tree, SVC, perceptron, K-Means 등 많은 분류 문제 풀이 방법을 활용하여 간단하게 모델을 구현 할 수 있지만, nn의 구조와 파라미터들의 변화 양상을 알 수 없기 때문에 nn을 활용하기위해 pytorch와 tensorflow중 고민하다 pytorch는 익숙하지 않아 tensorflow를 채택하여 사용하였다.\n",
    "\n",
    "이 타이타닉 데이터를 이용한 Survived or Dead 문제를 풀기 위해선 데이터 전처리과정과 모델을 구현하는데 있어서 많은 시행착오가 필요하였다. 같은 전처리과정을 Dropout과 같은 것을 추가만 하여도 정확도가 크게 바뀌었고, 모델의 acc와 loss가 아무리 잘 나왔다 치더라도, kaggle에 제출하였을 땐 스코어가 낮은 경우도 허다하였기 때문에 어떤 데이터가 연관이 있을지 없을지를 생각하고, 모델을 최대한 다양한 방법으로 구현해야만 했다. 또한 optimizer도 SGD를 이용했을때와 Adam을 이용했을 때 loss가 떨어지는게 전혀 달랐고, optimizer의 learning_rate를 조절하여 최적의 조건을 찾는것도 쉽지 않았다. \n",
    "\n",
    "모델을 아주 작고 간단하게 구성하였을 때 train이 아주 잘되었는데, hidden layer을 증가하면 할수록 모델의 variance가 증가하여 validation loss와 acc가 계속해서 진동하는 현상이 발생하였는데, 이를 해결해 가면서 모델을 구현해 보고 싶어 hidden layer의 크기를 계속해서 늘려가면서 relu를 넣어 모델을 크게 만드는 대신 weight decay를 줘 모델을 스무딩 시켜주는 방법으로 진행하였다. 모델의 크기를 키울수록 kaggle의 score도 증가함을 확인하였다.\n",
    "\n",
    "데이터 전처리 과정에서 Cabin, Name, Ticket는 아에 이 문제에서 필요하지 않다고 판단하고 제거하였지만, kaggle에 있는 스코어가 높은 코드들은 이들까지 포함하여 트레인을 한 경우도 있었다. 또한 각각의 데이터를 분류하는것이 아닌 Age-Sex, Age-Pclass, Fare-Pclass 등 두 가지 이상의 데이터를 묶어서 관계성을 따지는 방법도 꽤 많이 존재하였다.\n",
    "\n",
    "지금 만든 데이터 전처리에서 Sex, Pclass, Embarked 등은 one-hot encoding을 통해 데이터를 더 세부적으로 나눈 후 모델을 차라리 hidden layer을 축소시키는 과정으로 정확도를 더 높일 수 있을거라고 생각된다.\n",
    "\n"
   ]
  },
  {
   "attachments": {
    "image.png": {
     "image/png": "[encoded data removed]"
    }
   },
   "cell_type": "markdown",
   "metadata": {},
   "source": [
    "![image.png](attachment:image.png)"
   ]
  },
  {
   "attachments": {
    "image.png": {
     "image/png": "[encoded data removed]"
    }
   },
   "cell_type": "markdown",
   "metadata": {},
   "source": [
    "![image.png](attachment:image.png)"
   ]
  },
  {
   "cell_type": "code",
   "execution_count": null,
   "metadata": {},
   "outputs": [],
   "source": []
  }
 ],
 "metadata": {
  "interpreter": {
   "hash": "ac5ba461e022a46822591661efbc09da50068d8326506c82c6f426d61e442761"
  },
  "kernelspec": {
   "display_name": "Python 3 (ipykernel)",
   "language": "python",
   "name": "python3"
  },
  "language_info": {
   "codemirror_mode": {
    "name": "ipython",
    "version": 3
   },
   "file_extension": ".py",
   "mimetype": "text/x-python",
   "name": "python",
   "nbconvert_exporter": "python",
   "pygments_lexer": "ipython3",
   "version": "3.8.12"
  }
 },
 "nbformat": 4,
 "nbformat_minor": 2
}
