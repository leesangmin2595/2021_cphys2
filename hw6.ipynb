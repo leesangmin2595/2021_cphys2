{
 "cells": [
  {
   "cell_type": "markdown",
   "metadata": {},
   "source": [
    "# Mnist"
   ]
  },
  {
   "cell_type": "markdown",
   "metadata": {},
   "source": [
    "### 1. Data"
   ]
  },
  {
   "cell_type": "code",
   "execution_count": 1,
   "metadata": {},
   "outputs": [
    {
     "name": "stdout",
     "output_type": "stream",
     "text": [
      "Downloading http://yann.lecun.com/exdb/mnist/train-images-idx3-ubyte.gz\n",
      "Downloading http://yann.lecun.com/exdb/mnist/train-images-idx3-ubyte.gz to data/MNIST/raw/train-images-idx3-ubyte.gz\n"
     ]
    },
    {
     "name": "stderr",
     "output_type": "stream",
     "text": [
      "9913344it [00:01, 6265952.82it/s]                             \n"
     ]
    },
    {
     "name": "stdout",
     "output_type": "stream",
     "text": [
      "Extracting data/MNIST/raw/train-images-idx3-ubyte.gz to data/MNIST/raw\n",
      "\n",
      "Downloading http://yann.lecun.com/exdb/mnist/train-labels-idx1-ubyte.gz\n",
      "Downloading http://yann.lecun.com/exdb/mnist/train-labels-idx1-ubyte.gz to data/MNIST/raw/train-labels-idx1-ubyte.gz\n"
     ]
    },
    {
     "name": "stderr",
     "output_type": "stream",
     "text": [
      "29696it [00:00, 3105389.10it/s]          "
     ]
    },
    {
     "name": "stdout",
     "output_type": "stream",
     "text": [
      "Extracting data/MNIST/raw/train-labels-idx1-ubyte.gz to data/MNIST/raw\n",
      "\n",
      "Downloading http://yann.lecun.com/exdb/mnist/t10k-images-idx3-ubyte.gz\n",
      "Downloading http://yann.lecun.com/exdb/mnist/t10k-images-idx3-ubyte.gz to data/MNIST/raw/t10k-images-idx3-ubyte.gz\n"
     ]
    },
    {
     "name": "stderr",
     "output_type": "stream",
     "text": [
      "\n",
      "1649664it [00:00, 4743861.44it/s]                             \n"
     ]
    },
    {
     "name": "stdout",
     "output_type": "stream",
     "text": [
      "Extracting data/MNIST/raw/t10k-images-idx3-ubyte.gz to data/MNIST/raw\n",
      "\n",
      "Downloading http://yann.lecun.com/exdb/mnist/t10k-labels-idx1-ubyte.gz\n",
      "Downloading http://yann.lecun.com/exdb/mnist/t10k-labels-idx1-ubyte.gz to data/MNIST/raw/t10k-labels-idx1-ubyte.gz\n"
     ]
    },
    {
     "name": "stderr",
     "output_type": "stream",
     "text": [
      "5120it [00:00, 13430166.65it/s]         \n"
     ]
    },
    {
     "name": "stdout",
     "output_type": "stream",
     "text": [
      "Extracting data/MNIST/raw/t10k-labels-idx1-ubyte.gz to data/MNIST/raw\n",
      "\n"
     ]
    },
    {
     "name": "stderr",
     "output_type": "stream",
     "text": [
      "/opt/homebrew/Caskroom/miniforge/base/envs/tf25/lib/python3.8/site-packages/torchvision/datasets/mnist.py:498: UserWarning: The given NumPy array is not writeable, and PyTorch does not support non-writeable tensors. This means you can write to the underlying (supposedly non-writeable) NumPy array using the tensor. You may want to copy the array to protect its data or make it writeable before converting it to a tensor. This type of warning will be suppressed for the rest of this program. (Triggered internally at  /Users/runner/miniforge3/conda-bld/pytorch-recipe_1635217280611/work/torch/csrc/utils/tensor_numpy.cpp:189.)\n",
      "  return torch.from_numpy(parsed.astype(m[2], copy=False)).view(*s)\n"
     ]
    },
    {
     "data": {
      "text/plain": [
       "Dataset MNIST\n",
       "    Number of datapoints: 10000\n",
       "    Root location: data\n",
       "    Split: Test\n",
       "    StandardTransform\n",
       "Transform: ToTensor()"
      ]
     },
     "execution_count": 1,
     "metadata": {},
     "output_type": "execute_result"
    }
   ],
   "source": [
    "import numpy as np\n",
    "import matplotlib.pyplot as plt\n",
    "import torch\n",
    "import torchvision\n",
    "\n",
    "train_data = torchvision.datasets.MNIST(\n",
    "    root = 'data',\n",
    "    train = True,                       \n",
    "    transform = torchvision.transforms.ToTensor(), \n",
    "    download = True,            \n",
    ")\n",
    "test_data = torchvision.datasets.MNIST(\n",
    "    root = 'data', \n",
    "    train = False, \n",
    "    transform = torchvision.transforms.ToTensor()\n",
    ")\n",
    "\n",
    "train_data\n",
    "\n",
    "test_data # 제출시 이 test 데이터에 대한 정확도를 출력하세요."
   ]
  },
  {
   "cell_type": "code",
   "execution_count": 2,
   "metadata": {},
   "outputs": [
    {
     "data": {
      "text/plain": [
       "torch.Size([10000, 28, 28])"
      ]
     },
     "execution_count": 2,
     "metadata": {},
     "output_type": "execute_result"
    }
   ],
   "source": [
    "test_data.data.data.shape"
   ]
  },
  {
   "cell_type": "markdown",
   "metadata": {},
   "source": [
    "### 1-1. 데이터 전처리"
   ]
  },
  {
   "cell_type": "code",
   "execution_count": 3,
   "metadata": {},
   "outputs": [],
   "source": [
    "x_train=(torch.flatten(train_data.data,start_dim=1)/255).float()\n",
    "y_train=train_data.targets\n",
    "x_test=(torch.flatten(test_data.data,start_dim=1)/255).float()\n",
    "y_test=test_data.targets"
   ]
  },
  {
   "cell_type": "markdown",
   "metadata": {},
   "source": [
    "### 2. Model (input = 784, hidden layer 1,2 = 256, output = 10) with softmax function"
   ]
  },
  {
   "cell_type": "code",
   "execution_count": 4,
   "metadata": {},
   "outputs": [],
   "source": [
    "model=torch.nn.Sequential(\n",
    "    torch.nn.Linear(784,256),\n",
    "    torch.nn.ReLU(),\n",
    "    torch.nn.Linear(256,256),\n",
    "    torch.nn.ReLU(),\n",
    "    torch.nn.Linear(256,10) # 모델 맨 밑에 softmax를 넣지 않은 이유는 pytorch의 CrossEntropyLoss 함수에 softmax가 포함되어있기 때문\n",
    ")\n"
   ]
  },
  {
   "cell_type": "markdown",
   "metadata": {},
   "source": [
    "### 3. Loss and Optimizer (loss function=CE, optimizer=Adam)"
   ]
  },
  {
   "cell_type": "code",
   "execution_count": 5,
   "metadata": {},
   "outputs": [],
   "source": [
    "learning_rate=0.01\n",
    "epochs=80\n",
    "criterion=torch.nn.CrossEntropyLoss()\n",
    "optimizer=torch.optim.Adam(model.parameters(),lr=learning_rate)"
   ]
  },
  {
   "cell_type": "markdown",
   "metadata": {},
   "source": [
    "### 4. Train/Test "
   ]
  },
  {
   "cell_type": "code",
   "execution_count": 6,
   "metadata": {},
   "outputs": [
    {
     "name": "stdout",
     "output_type": "stream",
     "text": [
      "Epoch 1 : Train - loss: 2.304767, Accuracy: 0.093433 Test - loss: 1.998643,  Accuracy: 0.390800\n",
      "Epoch 2 : Train - loss: 2.001326, Accuracy: 0.378167 Test - loss: 1.565833,  Accuracy: 0.493900\n",
      "Epoch 3 : Train - loss: 1.570883, Accuracy: 0.496617 Test - loss: 1.677006,  Accuracy: 0.474000\n",
      "Epoch 4 : Train - loss: 1.681083, Accuracy: 0.471617 Test - loss: 1.414562,  Accuracy: 0.561000\n",
      "Epoch 5 : Train - loss: 1.437519, Accuracy: 0.551283 Test - loss: 1.048042,  Accuracy: 0.629100\n",
      "Epoch 6 : Train - loss: 1.058385, Accuracy: 0.628300 Test - loss: 0.979544,  Accuracy: 0.657800\n",
      "Epoch 7 : Train - loss: 0.976006, Accuracy: 0.657783 Test - loss: 0.826754,  Accuracy: 0.695500\n",
      "Epoch 8 : Train - loss: 0.823267, Accuracy: 0.701867 Test - loss: 0.659652,  Accuracy: 0.802100\n",
      "Epoch 9 : Train - loss: 0.661949, Accuracy: 0.801150 Test - loss: 0.585596,  Accuracy: 0.805700\n",
      "Epoch 10 : Train - loss: 0.594321, Accuracy: 0.806233 Test - loss: 0.537082,  Accuracy: 0.828100\n",
      "Epoch 11 : Train - loss: 0.550727, Accuracy: 0.823900 Test - loss: 0.485512,  Accuracy: 0.856500\n",
      "Epoch 12 : Train - loss: 0.500573, Accuracy: 0.851367 Test - loss: 0.449719,  Accuracy: 0.865300\n",
      "Epoch 13 : Train - loss: 0.464698, Accuracy: 0.858283 Test - loss: 0.397180,  Accuracy: 0.881600\n",
      "Epoch 14 : Train - loss: 0.413395, Accuracy: 0.875233 Test - loss: 0.359320,  Accuracy: 0.892900\n",
      "Epoch 15 : Train - loss: 0.370908, Accuracy: 0.888950 Test - loss: 0.347788,  Accuracy: 0.896700\n",
      "Epoch 16 : Train - loss: 0.352683, Accuracy: 0.893100 Test - loss: 0.346223,  Accuracy: 0.896600\n",
      "Epoch 17 : Train - loss: 0.346393, Accuracy: 0.895417 Test - loss: 0.326648,  Accuracy: 0.904100\n",
      "Epoch 18 : Train - loss: 0.324131, Accuracy: 0.904333 Test - loss: 0.306131,  Accuracy: 0.909300\n",
      "Epoch 19 : Train - loss: 0.305084, Accuracy: 0.912133 Test - loss: 0.287735,  Accuracy: 0.915500\n",
      "Epoch 20 : Train - loss: 0.290872, Accuracy: 0.916533 Test - loss: 0.267912,  Accuracy: 0.917500\n",
      "Epoch 21 : Train - loss: 0.274321, Accuracy: 0.919933 Test - loss: 0.250238,  Accuracy: 0.922700\n",
      "Epoch 22 : Train - loss: 0.256485, Accuracy: 0.924350 Test - loss: 0.238676,  Accuracy: 0.926700\n",
      "Epoch 23 : Train - loss: 0.242255, Accuracy: 0.928200 Test - loss: 0.235654,  Accuracy: 0.927300\n",
      "Epoch 24 : Train - loss: 0.236951, Accuracy: 0.930283 Test - loss: 0.228544,  Accuracy: 0.929000\n",
      "Epoch 25 : Train - loss: 0.228835, Accuracy: 0.932067 Test - loss: 0.216064,  Accuracy: 0.932800\n",
      "Epoch 26 : Train - loss: 0.215635, Accuracy: 0.935917 Test - loss: 0.204772,  Accuracy: 0.936600\n",
      "Epoch 27 : Train - loss: 0.203883, Accuracy: 0.939017 Test - loss: 0.196987,  Accuracy: 0.939200\n",
      "Epoch 28 : Train - loss: 0.195880, Accuracy: 0.941983 Test - loss: 0.190098,  Accuracy: 0.940800\n",
      "Epoch 29 : Train - loss: 0.188491, Accuracy: 0.944433 Test - loss: 0.184800,  Accuracy: 0.942700\n",
      "Epoch 30 : Train - loss: 0.182182, Accuracy: 0.946033 Test - loss: 0.180901,  Accuracy: 0.944000\n",
      "Epoch 31 : Train - loss: 0.176940, Accuracy: 0.947350 Test - loss: 0.175833,  Accuracy: 0.944800\n",
      "Epoch 32 : Train - loss: 0.170693, Accuracy: 0.949200 Test - loss: 0.168928,  Accuracy: 0.947400\n",
      "Epoch 33 : Train - loss: 0.162872, Accuracy: 0.951717 Test - loss: 0.161655,  Accuracy: 0.949800\n",
      "Epoch 34 : Train - loss: 0.154950, Accuracy: 0.954350 Test - loss: 0.156166,  Accuracy: 0.951700\n",
      "Epoch 35 : Train - loss: 0.149040, Accuracy: 0.956000 Test - loss: 0.152585,  Accuracy: 0.952600\n",
      "Epoch 36 : Train - loss: 0.145140, Accuracy: 0.957317 Test - loss: 0.149176,  Accuracy: 0.953600\n",
      "Epoch 37 : Train - loss: 0.140818, Accuracy: 0.958600 Test - loss: 0.145794,  Accuracy: 0.954600\n",
      "Epoch 38 : Train - loss: 0.136048, Accuracy: 0.959500 Test - loss: 0.142300,  Accuracy: 0.957400\n",
      "Epoch 39 : Train - loss: 0.131073, Accuracy: 0.960900 Test - loss: 0.139060,  Accuracy: 0.957900\n",
      "Epoch 40 : Train - loss: 0.126181, Accuracy: 0.962483 Test - loss: 0.135938,  Accuracy: 0.958700\n",
      "Epoch 41 : Train - loss: 0.121388, Accuracy: 0.963867 Test - loss: 0.133190,  Accuracy: 0.959000\n",
      "Epoch 42 : Train - loss: 0.117168, Accuracy: 0.964833 Test - loss: 0.130798,  Accuracy: 0.959100\n",
      "Epoch 43 : Train - loss: 0.113469, Accuracy: 0.965917 Test - loss: 0.128293,  Accuracy: 0.959900\n",
      "Epoch 44 : Train - loss: 0.109787, Accuracy: 0.966783 Test - loss: 0.125635,  Accuracy: 0.960500\n",
      "Epoch 45 : Train - loss: 0.105975, Accuracy: 0.968000 Test - loss: 0.123335,  Accuracy: 0.961500\n",
      "Epoch 46 : Train - loss: 0.102436, Accuracy: 0.969150 Test - loss: 0.121295,  Accuracy: 0.962900\n",
      "Epoch 47 : Train - loss: 0.099105, Accuracy: 0.970133 Test - loss: 0.119394,  Accuracy: 0.963300\n",
      "Epoch 48 : Train - loss: 0.095855, Accuracy: 0.971533 Test - loss: 0.117488,  Accuracy: 0.964200\n",
      "Epoch 49 : Train - loss: 0.092675, Accuracy: 0.972433 Test - loss: 0.115624,  Accuracy: 0.964700\n",
      "Epoch 50 : Train - loss: 0.089590, Accuracy: 0.973450 Test - loss: 0.113940,  Accuracy: 0.964600\n",
      "Epoch 51 : Train - loss: 0.086647, Accuracy: 0.974250 Test - loss: 0.112263,  Accuracy: 0.966000\n",
      "Epoch 52 : Train - loss: 0.083765, Accuracy: 0.975350 Test - loss: 0.110751,  Accuracy: 0.966500\n",
      "Epoch 53 : Train - loss: 0.081019, Accuracy: 0.976083 Test - loss: 0.109524,  Accuracy: 0.967100\n",
      "Epoch 54 : Train - loss: 0.078518, Accuracy: 0.976717 Test - loss: 0.108055,  Accuracy: 0.967800\n",
      "Epoch 55 : Train - loss: 0.075951, Accuracy: 0.977583 Test - loss: 0.106421,  Accuracy: 0.968600\n",
      "Epoch 56 : Train - loss: 0.073358, Accuracy: 0.978233 Test - loss: 0.105205,  Accuracy: 0.968400\n",
      "Epoch 57 : Train - loss: 0.071068, Accuracy: 0.978967 Test - loss: 0.104443,  Accuracy: 0.968100\n",
      "Epoch 58 : Train - loss: 0.068908, Accuracy: 0.979600 Test - loss: 0.103557,  Accuracy: 0.968400\n",
      "Epoch 59 : Train - loss: 0.066678, Accuracy: 0.980283 Test - loss: 0.102549,  Accuracy: 0.970000\n",
      "Epoch 60 : Train - loss: 0.064444, Accuracy: 0.981033 Test - loss: 0.101447,  Accuracy: 0.969700\n",
      "Epoch 61 : Train - loss: 0.062300, Accuracy: 0.981500 Test - loss: 0.100321,  Accuracy: 0.969600\n",
      "Epoch 62 : Train - loss: 0.060229, Accuracy: 0.982367 Test - loss: 0.099484,  Accuracy: 0.970200\n",
      "Epoch 63 : Train - loss: 0.058265, Accuracy: 0.983000 Test - loss: 0.098628,  Accuracy: 0.971200\n",
      "Epoch 64 : Train - loss: 0.056318, Accuracy: 0.983617 Test - loss: 0.097957,  Accuracy: 0.971600\n",
      "Epoch 65 : Train - loss: 0.054492, Accuracy: 0.984000 Test - loss: 0.097028,  Accuracy: 0.971800\n",
      "Epoch 66 : Train - loss: 0.052681, Accuracy: 0.984500 Test - loss: 0.096336,  Accuracy: 0.972200\n",
      "Epoch 67 : Train - loss: 0.050914, Accuracy: 0.985017 Test - loss: 0.095129,  Accuracy: 0.972000\n",
      "Epoch 68 : Train - loss: 0.049215, Accuracy: 0.985800 Test - loss: 0.094681,  Accuracy: 0.972600\n",
      "Epoch 69 : Train - loss: 0.047529, Accuracy: 0.986033 Test - loss: 0.093929,  Accuracy: 0.972500\n",
      "Epoch 70 : Train - loss: 0.045954, Accuracy: 0.986650 Test - loss: 0.093925,  Accuracy: 0.973300\n",
      "Epoch 71 : Train - loss: 0.044512, Accuracy: 0.987167 Test - loss: 0.092595,  Accuracy: 0.972900\n",
      "Epoch 72 : Train - loss: 0.043149, Accuracy: 0.987900 Test - loss: 0.092941,  Accuracy: 0.973500\n",
      "Epoch 73 : Train - loss: 0.041827, Accuracy: 0.988217 Test - loss: 0.091761,  Accuracy: 0.973400\n",
      "Epoch 74 : Train - loss: 0.040271, Accuracy: 0.988883 Test - loss: 0.091751,  Accuracy: 0.974400\n",
      "Epoch 75 : Train - loss: 0.038576, Accuracy: 0.989483 Test - loss: 0.091325,  Accuracy: 0.974500\n",
      "Epoch 76 : Train - loss: 0.037227, Accuracy: 0.989833 Test - loss: 0.090666,  Accuracy: 0.974300\n",
      "Epoch 77 : Train - loss: 0.036139, Accuracy: 0.990233 Test - loss: 0.091050,  Accuracy: 0.974200\n",
      "Epoch 78 : Train - loss: 0.034969, Accuracy: 0.990517 Test - loss: 0.089823,  Accuracy: 0.974600\n",
      "Epoch 79 : Train - loss: 0.033594, Accuracy: 0.991133 Test - loss: 0.089976,  Accuracy: 0.974600\n",
      "Epoch 80 : Train - loss: 0.032159, Accuracy: 0.991483 Test - loss: 0.090106,  Accuracy: 0.974300\n",
      "Done\n"
     ]
    }
   ],
   "source": [
    "train_loss=[]\n",
    "train_acc=[]\n",
    "test_loss=[]\n",
    "test_acc=[]\n",
    "\n",
    "for n in range(epochs): # Train \n",
    "    for i in range(1): # \n",
    "\n",
    "        y_pred = model(x_train)\n",
    "        loss = criterion(y_pred,y_train)\n",
    "        \n",
    "\n",
    "        prediction=y_pred.max(1)[1]\n",
    "        corrects = (prediction == y_train)\n",
    "        accuracy = corrects.sum().float() / float(y_train.size(0))\n",
    "    \n",
    "\n",
    "        optimizer.zero_grad() # zero_grad(): 미분값 초기화\n",
    "        loss.backward() # backpropagation\n",
    "        optimizer.step() # update weights and biases\n",
    "    \n",
    "    with torch.no_grad(): # Test, epoch-test_loss,test_accuracy를 보기 위해 같이 넣음 \n",
    "        for j in range(1):\n",
    "           \n",
    "            \n",
    "            y_pred2 = model(x_test)\n",
    "            loss2 = criterion(y_pred2,y_test)\n",
    "       \n",
    "\n",
    "            prediction2=y_pred2.max(1)[1]\n",
    "            corrects2 = (prediction2 == y_test)\n",
    "            accuracy_test = corrects2.sum().float() / float(y_test.size(0))\n",
    "    \n",
    "\n",
    " \n",
    "\n",
    "    train_acc.append(accuracy)\n",
    "    train_loss.append(loss.item())\n",
    "    test_acc.append(accuracy_test)\n",
    "    test_loss.append(loss2.item())\n",
    "    \n",
    "    \n",
    "    print(\"Epoch {} : Train - loss: {:8f}, Accuracy: {:8f} Test - loss: {:8f},  Accuracy: {:8f}\".format(n+1,loss.item(),accuracy,loss2.item(),accuracy_test))\n",
    "\n",
    "print(\"Done\")"
   ]
  },
  {
   "cell_type": "code",
   "execution_count": 7,
   "metadata": {},
   "outputs": [],
   "source": [
    "epochs2=np.arange(1,epochs+1)"
   ]
  },
  {
   "cell_type": "markdown",
   "metadata": {},
   "source": [
    "### 4-1. Test Accuracy"
   ]
  },
  {
   "cell_type": "code",
   "execution_count": 8,
   "metadata": {},
   "outputs": [
    {
     "name": "stdout",
     "output_type": "stream",
     "text": [
      "Test Accuracy: 0.9743000268936157\n"
     ]
    }
   ],
   "source": [
    "print('Test Accuracy: {}'.format(test_acc[-1])) # test 데이터의 정확도. epoch를 늘려도 정확도가 증가는 하지만 크게 변하진 않고, test loss가 증가하여 더 늘리지 않음"
   ]
  },
  {
   "cell_type": "markdown",
   "metadata": {},
   "source": [
    "### 5. Result Plot"
   ]
  },
  {
   "cell_type": "code",
   "execution_count": 9,
   "metadata": {},
   "outputs": [
    {
     "data": {
      "image/png": "[encoded data removed]",
      "text/plain": [
       "<Figure size 432x288 with 1 Axes>"
      ]
     },
     "metadata": {
      "needs_background": "light"
     },
     "output_type": "display_data"
    }
   ],
   "source": [
    "plt.plot(epochs2,train_loss,'r-',label='Train loss')\n",
    "plt.plot(epochs2,test_loss,'b-',label='Test loss')\n",
    "plt.legend(loc='best')\n",
    "plt.xlabel('Epochs')\n",
    "plt.ylabel('Loss')\n",
    "plt.title(' Training and Test loss');\n",
    "\n",
    "plt.show()"
   ]
  },
  {
   "cell_type": "code",
   "execution_count": 10,
   "metadata": {},
   "outputs": [
    {
     "data": {
      "image/png": "[encoded data removed]",
      "text/plain": [
       "<Figure size 432x288 with 1 Axes>"
      ]
     },
     "metadata": {
      "needs_background": "light"
     },
     "output_type": "display_data"
    }
   ],
   "source": [
    "plt.plot(epochs2,train_acc,'r-',label='Train accuracy')\n",
    "plt.plot(epochs2,test_acc,'b-',label='Test Accuracy')\n",
    "plt.legend(loc='best')\n",
    "plt.xlabel('Epochs')\n",
    "plt.ylabel('Accuracy')\n",
    "plt.title('Training and Test acc');\n",
    "\n",
    "plt.show()"
   ]
  },
  {
   "cell_type": "code",
   "execution_count": null,
   "metadata": {},
   "outputs": [],
   "source": []
  }
 ],
 "metadata": {
  "interpreter": {
   "hash": "ac5ba461e022a46822591661efbc09da50068d8326506c82c6f426d61e442761"
  },
  "kernelspec": {
   "display_name": "Python 3.8.12 64-bit ('tf25': conda)",
   "language": "python",
   "name": "python3"
  },
  "language_info": {
   "codemirror_mode": {
    "name": "ipython",
    "version": 3
   },
   "file_extension": ".py",
   "mimetype": "text/x-python",
   "name": "python",
   "nbconvert_exporter": "python",
   "pygments_lexer": "ipython3",
   "version": "3.8.12"
  },
  "orig_nbformat": 4
 },
 "nbformat": 4,
 "nbformat_minor": 2
}
