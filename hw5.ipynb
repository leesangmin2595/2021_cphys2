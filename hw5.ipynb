{
 "cells": [
  {
   "cell_type": "markdown",
   "metadata": {},
   "source": [
    "## XOR"
   ]
  },
  {
   "cell_type": "code",
   "execution_count": 2,
   "metadata": {},
   "outputs": [],
   "source": [
    "import numpy as np\n",
    "import matplotlib.pyplot as plt\n"
   ]
  },
  {
   "cell_type": "markdown",
   "metadata": {},
   "source": [
    "### 1. Data"
   ]
  },
  {
   "cell_type": "code",
   "execution_count": 3,
   "metadata": {},
   "outputs": [],
   "source": [
    "X = [[0,0,1],[1,0,1],[0,1,1],[1,1,1]] # 세번째 항은 bias\n",
    "y = [0,1,1,0] # target 값"
   ]
  },
  {
   "cell_type": "code",
   "execution_count": 4,
   "metadata": {},
   "outputs": [],
   "source": [
    "np.random.seed(1)\n",
    "w=np.random.uniform(low=-1,high=1,size=[3,4]) # input layers(3) <-> hidden layers(4) 사이의 weight\n",
    "w2=np.random.uniform(low=-1,high=1,size=[4,4]) # hidden layers(4) <-> output(4, 층은 1개지만 데이터는 4개) 사이의 weight\n",
    "eta=1 "
   ]
  },
  {
   "cell_type": "markdown",
   "metadata": {},
   "source": [
    "### 2. Model (Activation function = sigmoid)"
   ]
  },
  {
   "cell_type": "code",
   "execution_count": 5,
   "metadata": {},
   "outputs": [],
   "source": [
    "def f(x):\n",
    "    return 1/(1+np.exp(-x))"
   ]
  },
  {
   "cell_type": "markdown",
   "metadata": {},
   "source": [
    "### 2.1 Forward propagation"
   ]
  },
  {
   "cell_type": "code",
   "execution_count": 6,
   "metadata": {},
   "outputs": [],
   "source": [
    "for i in range(4):\n",
    "    neth=np.dot(X[i],w) # hidden layers의 입력값의 합, sum(w_ij*x_i)\n",
    "    h=f(neth) # hidden layers의 출력값\n",
    "    neto=np.dot(h,w2) # output층 노드 입력값\n",
    "    o=f(neto) # 최종 출력값(output)\n"
   ]
  },
  {
   "cell_type": "markdown",
   "metadata": {},
   "source": [
    "### 2.2 Forward propagation result"
   ]
  },
  {
   "cell_type": "code",
   "execution_count": 7,
   "metadata": {},
   "outputs": [
    {
     "name": "stdout",
     "output_type": "stream",
     "text": [
      "[1 1 0 0] [False  True False  True]\n"
     ]
    }
   ],
   "source": [
    "o_pred=np.array(o>0.5,dtype=np.int32) # sigmoid는 0,1 두개의 데이터를 출력하는게 아니므로 반올림을 함\n",
    "print(o_pred, o_pred==y) # 예측값 o와 실제값 y가 다름"
   ]
  },
  {
   "cell_type": "markdown",
   "metadata": {},
   "source": [
    "### 3. Backpropagation training {(loss function=MSE , optimizer = gradient descent)}"
   ]
  },
  {
   "cell_type": "code",
   "execution_count": 8,
   "metadata": {},
   "outputs": [],
   "source": [
    "dh=[0,0,0,0] "
   ]
  },
  {
   "cell_type": "code",
   "execution_count": 9,
   "metadata": {},
   "outputs": [
    {
     "name": "stdout",
     "output_type": "stream",
     "text": [
      "최종 출력값: [0.0046432  0.99570395 0.99569494 0.0040372 ]\n",
      "loss: [7.51400520e-05 7.30396707e-05 7.66759428e-05 8.52216976e-05]\n"
     ]
    }
   ],
   "source": [
    "for n in range(10000):\n",
    "    E=0 # error\n",
    "    for i in range(4):\n",
    "        neth=np.dot(X[i],w) # hidden layers의 입력값의 합, sum(w_ij*x_i)\n",
    "        h=f(neth) # hidden layers의 출력값\n",
    "        neto=np.dot(h,w2) # output층 노드 입력값\n",
    "        o=f(neto) # 최종 출력값(outputs)\n",
    "        \n",
    "        do=(o-y)*f(neto)*(1-f(neto))\n",
    "        E=E+(o-y)**2 # loss function = MSE\n",
    "        \n",
    "        w2[i]=w2[i]-eta*do*h[i]\n",
    "        dh[i]=do*w2[i]*f(neth[i])*(1-f(neth[i]))\n",
    "            \n",
    "        for j in range(3):\n",
    "            w[j][i]=w[j][i]-eta*dh[i][j]*X[i][j] \n",
    "\n",
    "print(\"최종 출력값: {}\".format(o))\n",
    "print('loss: {}'.format(E)) # 각 데이터의 error "
   ]
  },
  {
   "cell_type": "markdown",
   "metadata": {},
   "source": [
    "### 4. Result "
   ]
  },
  {
   "cell_type": "code",
   "execution_count": 10,
   "metadata": {},
   "outputs": [
    {
     "name": "stdout",
     "output_type": "stream",
     "text": [
      "[0 1 1 0] [ True  True  True  True]\n"
     ]
    }
   ],
   "source": [
    "o_pred=np.array(o>0.5,dtype=np.int32) # sigmoid는 0,1 두개의 데이터를 출력하는게 아니므로 반올림을 함\n",
    "print(o_pred, o_pred==y) # 예측값 o와 실제값 y가 같아짐\n",
    "\n"
   ]
  }
 ],
 "metadata": {
  "interpreter": {
   "hash": "52ee2977380704a66854748a73250e0671a9318bd5b3fd45a3df9f851ae61629"
  },
  "kernelspec": {
   "display_name": "Python 3.8.11 64-bit ('tf': conda)",
   "language": "python",
   "name": "python3"
  },
  "language_info": {
   "codemirror_mode": {
    "name": "ipython",
    "version": 3
   },
   "file_extension": ".py",
   "mimetype": "text/x-python",
   "name": "python",
   "nbconvert_exporter": "python",
   "pygments_lexer": "ipython3",
   "version": "3.8.12"
  },
  "orig_nbformat": 4
 },
 "nbformat": 4,
 "nbformat_minor": 2
}
